{
 "cells": [
  {
   "cell_type": "code",
   "execution_count": 1,
   "metadata": {},
   "outputs": [],
   "source": [
    "## !jt -t chesterish  # set given theme\n",
    "#!jt -r # reset default theme"
   ]
  },
  {
   "cell_type": "markdown",
   "metadata": {},
   "source": [
    "# Southern Women Dataset\n",
    "## An illustration of agglomerative clustering and polarisation evaluation in bipartite networks\n",
    "### Adrián Fernández Cid"
   ]
  },
  {
   "cell_type": "markdown",
   "metadata": {},
   "source": [
    "## Outline\n",
    "### 1. Data and unipartite projection\n",
    "### 2. Hierarchical/agglomerative clustering\n"
   ]
  },
  {
   "cell_type": "markdown",
   "metadata": {},
   "source": [
    "## 1. Data and unipartite projection"
   ]
  },
  {
   "cell_type": "markdown",
   "metadata": {},
   "source": [
    "The Southern Women dataset is a bipartite network of 18 women linked to 14 different social events only if they attended the given event. It is a popular dataset for testing clustering methods in bipartite networks, as there are two distinct communities of women, each preferring one of two classes of social event.\n",
    "\n",
    "Data from http://casos.cs.cmu.edu/computational_tools/datasets/external/davis/index2.html."
   ]
  },
  {
   "cell_type": "markdown",
   "metadata": {},
   "source": [
    "Let us load and check the data;"
   ]
  },
  {
   "cell_type": "code",
   "execution_count": 2,
   "metadata": {},
   "outputs": [],
   "source": [
    "import xml.etree.ElementTree as ET\n",
    "tree = ET.parse('../data/SouthernWomen.xml')\n",
    "root = tree.getroot()"
   ]
  },
  {
   "cell_type": "code",
   "execution_count": 3,
   "metadata": {},
   "outputs": [
    {
     "name": "stdout",
     "output_type": "stream",
     "text": [
      "DynamicMetaNetwork {'id': 'davis'}\n",
      "MetaNetwork {'id': 'davis'}\n",
      "nodes {}\n",
      "nodeclass {'type': 'Agent', 'id': 'agent'}\n",
      "node {'id': 'EVELYN'}\n",
      "node {'id': 'LAURA'}\n",
      "node {'id': 'THERESA'}\n",
      "node {'id': 'BRENDA'}\n",
      "node {'id': 'CHARLOTTE'}\n",
      "node {'id': 'FRANCES'}\n",
      "node {'id': 'ELEANOR'}\n",
      "node {'id': 'PEARL'}\n",
      "node {'id': 'RUTH'}\n",
      "node {'id': 'VERNE'}\n",
      "node {'id': 'MYRNA'}\n",
      "node {'id': 'KATHERINE'}\n",
      "node {'id': 'SYLVIA'}\n",
      "node {'id': 'NORA'}\n",
      "node {'id': 'HELEN'}\n",
      "node {'id': 'DOROTHY'}\n",
      "node {'id': 'OLIVIA'}\n",
      "node {'id': 'FLORA'}\n",
      "nodeclass {'type': 'Event', 'id': 'event'}\n",
      "node {'id': 'E1'}\n",
      "node {'id': 'E2'}\n",
      "node {'id': 'E3'}\n",
      "node {'id': 'E4'}\n",
      "node {'id': 'E5'}\n",
      "node {'id': 'E6'}\n",
      "node {'id': 'E7'}\n",
      "node {'id': 'E8'}\n",
      "node {'id': 'E9'}\n",
      "node {'id': 'E10'}\n",
      "node {'id': 'E11'}\n",
      "node {'id': 'E12'}\n",
      "node {'id': 'E13'}\n",
      "node {'id': 'E14'}\n",
      "networks {}\n",
      "network {'sourceType': 'Agent', 'source': 'agent', 'targetType': 'Event', 'target': 'event', 'id': 'agent x event'}\n",
      "link {'source': 'EVELYN', 'target': 'E1'}\n",
      "link {'source': 'EVELYN', 'target': 'E2'}\n",
      "link {'source': 'EVELYN', 'target': 'E3'}\n",
      "link {'source': 'EVELYN', 'target': 'E4'}\n",
      "link {'source': 'EVELYN', 'target': 'E5'}\n",
      "link {'source': 'EVELYN', 'target': 'E6'}\n",
      "link {'source': 'EVELYN', 'target': 'E8'}\n",
      "link {'source': 'EVELYN', 'target': 'E9'}\n",
      "link {'source': 'LAURA', 'target': 'E1'}\n",
      "link {'source': 'LAURA', 'target': 'E2'}\n",
      "link {'source': 'LAURA', 'target': 'E3'}\n",
      "link {'source': 'LAURA', 'target': 'E5'}\n",
      "link {'source': 'LAURA', 'target': 'E6'}\n",
      "link {'source': 'LAURA', 'target': 'E7'}\n",
      "link {'source': 'LAURA', 'target': 'E8'}\n",
      "link {'source': 'THERESA', 'target': 'E2'}\n",
      "link {'source': 'THERESA', 'target': 'E3'}\n",
      "link {'source': 'THERESA', 'target': 'E4'}\n",
      "link {'source': 'THERESA', 'target': 'E5'}\n",
      "link {'source': 'THERESA', 'target': 'E6'}\n",
      "link {'source': 'THERESA', 'target': 'E7'}\n",
      "link {'source': 'THERESA', 'target': 'E8'}\n",
      "link {'source': 'THERESA', 'target': 'E9'}\n",
      "link {'source': 'BRENDA', 'target': 'E1'}\n",
      "link {'source': 'BRENDA', 'target': 'E3'}\n",
      "link {'source': 'BRENDA', 'target': 'E4'}\n",
      "link {'source': 'BRENDA', 'target': 'E5'}\n",
      "link {'source': 'BRENDA', 'target': 'E6'}\n",
      "link {'source': 'BRENDA', 'target': 'E7'}\n",
      "link {'source': 'BRENDA', 'target': 'E8'}\n",
      "link {'source': 'CHARLOTTE', 'target': 'E3'}\n",
      "link {'source': 'CHARLOTTE', 'target': 'E4'}\n",
      "link {'source': 'CHARLOTTE', 'target': 'E5'}\n",
      "link {'source': 'CHARLOTTE', 'target': 'E7'}\n",
      "link {'source': 'FRANCES', 'target': 'E3'}\n",
      "link {'source': 'FRANCES', 'target': 'E5'}\n",
      "link {'source': 'FRANCES', 'target': 'E6'}\n",
      "link {'source': 'FRANCES', 'target': 'E8'}\n",
      "link {'source': 'ELEANOR', 'target': 'E5'}\n",
      "link {'source': 'ELEANOR', 'target': 'E6'}\n",
      "link {'source': 'ELEANOR', 'target': 'E7'}\n",
      "link {'source': 'ELEANOR', 'target': 'E8'}\n",
      "link {'source': 'PEARL', 'target': 'E6'}\n",
      "link {'source': 'PEARL', 'target': 'E8'}\n",
      "link {'source': 'PEARL', 'target': 'E9'}\n",
      "link {'source': 'RUTH', 'target': 'E5'}\n",
      "link {'source': 'RUTH', 'target': 'E7'}\n",
      "link {'source': 'RUTH', 'target': 'E8'}\n",
      "link {'source': 'RUTH', 'target': 'E9'}\n",
      "link {'source': 'VERNE', 'target': 'E7'}\n",
      "link {'source': 'VERNE', 'target': 'E8'}\n",
      "link {'source': 'VERNE', 'target': 'E9'}\n",
      "link {'source': 'VERNE', 'target': 'E12'}\n",
      "link {'source': 'MYRNA', 'target': 'E8'}\n",
      "link {'source': 'MYRNA', 'target': 'E9'}\n",
      "link {'source': 'MYRNA', 'target': 'E10'}\n",
      "link {'source': 'MYRNA', 'target': 'E12'}\n",
      "link {'source': 'KATHERINE', 'target': 'E8'}\n",
      "link {'source': 'KATHERINE', 'target': 'E9'}\n",
      "link {'source': 'KATHERINE', 'target': 'E10'}\n",
      "link {'source': 'KATHERINE', 'target': 'E12'}\n",
      "link {'source': 'KATHERINE', 'target': 'E13'}\n",
      "link {'source': 'KATHERINE', 'target': 'E14'}\n",
      "link {'source': 'SYLVIA', 'target': 'E7'}\n",
      "link {'source': 'SYLVIA', 'target': 'E8'}\n",
      "link {'source': 'SYLVIA', 'target': 'E9'}\n",
      "link {'source': 'SYLVIA', 'target': 'E10'}\n",
      "link {'source': 'SYLVIA', 'target': 'E12'}\n",
      "link {'source': 'SYLVIA', 'target': 'E13'}\n",
      "link {'source': 'SYLVIA', 'target': 'E14'}\n",
      "link {'source': 'NORA', 'target': 'E6'}\n",
      "link {'source': 'NORA', 'target': 'E7'}\n",
      "link {'source': 'NORA', 'target': 'E9'}\n",
      "link {'source': 'NORA', 'target': 'E10'}\n",
      "link {'source': 'NORA', 'target': 'E11'}\n",
      "link {'source': 'NORA', 'target': 'E12'}\n",
      "link {'source': 'NORA', 'target': 'E13'}\n",
      "link {'source': 'NORA', 'target': 'E14'}\n",
      "link {'source': 'HELEN', 'target': 'E7'}\n",
      "link {'source': 'HELEN', 'target': 'E8'}\n",
      "link {'source': 'HELEN', 'target': 'E10'}\n",
      "link {'source': 'HELEN', 'target': 'E11'}\n",
      "link {'source': 'HELEN', 'target': 'E12'}\n",
      "link {'source': 'DOROTHY', 'target': 'E8'}\n",
      "link {'source': 'DOROTHY', 'target': 'E9'}\n",
      "link {'source': 'OLIVIA', 'target': 'E9'}\n",
      "link {'source': 'OLIVIA', 'target': 'E11'}\n",
      "link {'source': 'FLORA', 'target': 'E9'}\n",
      "link {'source': 'FLORA', 'target': 'E11'}\n"
     ]
    }
   ],
   "source": [
    "#recursively check all (*) elements in tree and print \n",
    "#their tag and atribute\n",
    "for element in root.iter('*'): \n",
    "    print(element.tag, element.attrib)"
   ]
  },
  {
   "cell_type": "markdown",
   "metadata": {},
   "source": [
    "Recover nodes (women and events):"
   ]
  },
  {
   "cell_type": "code",
   "execution_count": 4,
   "metadata": {},
   "outputs": [],
   "source": [
    "nodes = []\n",
    "for node in root.iter('node'): \n",
    "    nodes.append(node.attrib[\"id\"])"
   ]
  },
  {
   "cell_type": "code",
   "execution_count": 5,
   "metadata": {},
   "outputs": [
    {
     "name": "stdout",
     "output_type": "stream",
     "text": [
      "['EVELYN', 'LAURA', 'THERESA', 'BRENDA', 'CHARLOTTE', 'FRANCES', 'ELEANOR', 'PEARL', 'RUTH', 'VERNE', 'MYRNA', 'KATHERINE', 'SYLVIA', 'NORA', 'HELEN', 'DOROTHY', 'OLIVIA', 'FLORA', 'E1', 'E2', 'E3', 'E4', 'E5', 'E6', 'E7', 'E8', 'E9', 'E10', 'E11', 'E12', 'E13', 'E14']\n"
     ]
    }
   ],
   "source": [
    "print(nodes)\n",
    "women = nodes[:18]\n",
    "events = nodes[18:]"
   ]
  },
  {
   "cell_type": "markdown",
   "metadata": {},
   "source": [
    "Define a dictionary containing all events each of the women attended:"
   ]
  },
  {
   "cell_type": "code",
   "execution_count": 6,
   "metadata": {},
   "outputs": [
    {
     "data": {
      "text/plain": [
       "{'EVELYN': ['E1', 'E2', 'E3', 'E4', 'E5', 'E6', 'E8', 'E9'],\n",
       " 'LAURA': ['E1', 'E2', 'E3', 'E5', 'E6', 'E7', 'E8'],\n",
       " 'THERESA': ['E2', 'E3', 'E4', 'E5', 'E6', 'E7', 'E8', 'E9'],\n",
       " 'BRENDA': ['E1', 'E3', 'E4', 'E5', 'E6', 'E7', 'E8'],\n",
       " 'CHARLOTTE': ['E3', 'E4', 'E5', 'E7'],\n",
       " 'FRANCES': ['E3', 'E5', 'E6', 'E8'],\n",
       " 'ELEANOR': ['E5', 'E6', 'E7', 'E8'],\n",
       " 'PEARL': ['E6', 'E8', 'E9'],\n",
       " 'RUTH': ['E5', 'E7', 'E8', 'E9'],\n",
       " 'VERNE': ['E7', 'E8', 'E9', 'E12'],\n",
       " 'MYRNA': ['E8', 'E9', 'E10', 'E12'],\n",
       " 'KATHERINE': ['E8', 'E9', 'E10', 'E12', 'E13', 'E14'],\n",
       " 'SYLVIA': ['E7', 'E8', 'E9', 'E10', 'E12', 'E13', 'E14'],\n",
       " 'NORA': ['E6', 'E7', 'E9', 'E10', 'E11', 'E12', 'E13', 'E14'],\n",
       " 'HELEN': ['E7', 'E8', 'E10', 'E11', 'E12'],\n",
       " 'DOROTHY': ['E8', 'E9'],\n",
       " 'OLIVIA': ['E9', 'E11'],\n",
       " 'FLORA': ['E9', 'E11']}"
      ]
     },
     "execution_count": 6,
     "metadata": {},
     "output_type": "execute_result"
    }
   ],
   "source": [
    "woman2event = {w:[] for w in women}\n",
    "for link in root.iter('link'): \n",
    "    source = link.attrib[\"source\"]\n",
    "    target = link.attrib[\"target\"]\n",
    "    woman2event[source].append(target)\n",
    "woman2event"
   ]
  },
  {
   "cell_type": "markdown",
   "metadata": {},
   "source": [
    "Define a dictionary containing a binary feature vector per woman, the vector corresponding to the attendance value (yes:1, no:0) of the woman to the corresponding event. Although we could also project the network on events rather than on women, from a conceptual (social) perspective it is more interesting to do it for women (even if the two communities are there in either case)."
   ]
  },
  {
   "cell_type": "code",
   "execution_count": 7,
   "metadata": {},
   "outputs": [
    {
     "data": {
      "text/plain": [
       "{'EVELYN': [1, 1, 1, 1, 1, 1, 0, 1, 1, 0, 0, 0, 0, 0],\n",
       " 'LAURA': [1, 1, 1, 0, 1, 1, 1, 1, 0, 0, 0, 0, 0, 0],\n",
       " 'THERESA': [0, 1, 1, 1, 1, 1, 1, 1, 1, 0, 0, 0, 0, 0],\n",
       " 'BRENDA': [1, 0, 1, 1, 1, 1, 1, 1, 0, 0, 0, 0, 0, 0],\n",
       " 'CHARLOTTE': [0, 0, 1, 1, 1, 0, 1, 0, 0, 0, 0, 0, 0, 0],\n",
       " 'FRANCES': [0, 0, 1, 0, 1, 1, 0, 1, 0, 0, 0, 0, 0, 0],\n",
       " 'ELEANOR': [0, 0, 0, 0, 1, 1, 1, 1, 0, 0, 0, 0, 0, 0],\n",
       " 'PEARL': [0, 0, 0, 0, 0, 1, 0, 1, 1, 0, 0, 0, 0, 0],\n",
       " 'RUTH': [0, 0, 0, 0, 1, 0, 1, 1, 1, 0, 0, 0, 0, 0],\n",
       " 'VERNE': [0, 0, 0, 0, 0, 0, 1, 1, 1, 0, 0, 1, 0, 0],\n",
       " 'MYRNA': [0, 0, 0, 0, 0, 0, 0, 1, 1, 1, 0, 1, 0, 0],\n",
       " 'KATHERINE': [0, 0, 0, 0, 0, 0, 0, 1, 1, 1, 0, 1, 1, 1],\n",
       " 'SYLVIA': [0, 0, 0, 0, 0, 0, 1, 1, 1, 1, 0, 1, 1, 1],\n",
       " 'NORA': [0, 0, 0, 0, 0, 1, 1, 0, 1, 1, 1, 1, 1, 1],\n",
       " 'HELEN': [0, 0, 0, 0, 0, 0, 1, 1, 0, 1, 1, 1, 0, 0],\n",
       " 'DOROTHY': [0, 0, 0, 0, 0, 0, 0, 1, 1, 0, 0, 0, 0, 0],\n",
       " 'OLIVIA': [0, 0, 0, 0, 0, 0, 0, 0, 1, 0, 1, 0, 0, 0],\n",
       " 'FLORA': [0, 0, 0, 0, 0, 0, 0, 0, 1, 0, 1, 0, 0, 0]}"
      ]
     },
     "execution_count": 7,
     "metadata": {},
     "output_type": "execute_result"
    }
   ],
   "source": [
    "import numpy as np\n",
    "\n",
    "n_events = len(events)\n",
    "woman2vect = {w:[0]*n_events for w in women}\n",
    "for w in women:\n",
    "    for i, e in enumerate(events):\n",
    "        if e in woman2event[w]:\n",
    "            woman2vect[w][i] = 1\n",
    "woman2vect"
   ]
  },
  {
   "cell_type": "markdown",
   "metadata": {},
   "source": [
    "Bipartite women-events network:"
   ]
  },
  {
   "cell_type": "code",
   "execution_count": 8,
   "metadata": {},
   "outputs": [],
   "source": [
    "import networkx as nx\n",
    "\n",
    "B = nx.Graph()\n",
    "# Add nodes with the node attribute \"bipartite\"\n",
    "B.add_nodes_from(events, bipartite=0)\n",
    "B.add_nodes_from(women, bipartite=1)\n",
    "\n",
    "#add edges\n",
    "for link in root.iter('link'): \n",
    "    source = link.attrib[\"source\"]\n",
    "    target = link.attrib[\"target\"]\n",
    "    B.add_edge(source, target)"
   ]
  },
  {
   "cell_type": "code",
   "execution_count": 9,
   "metadata": {},
   "outputs": [
    {
     "data": {
      "image/png": "[encoded data removed]",
      "text/plain": [
       "<Figure size 576x576 with 1 Axes>"
      ]
     },
     "metadata": {},
     "output_type": "display_data"
    }
   ],
   "source": [
    "import matplotlib.pyplot as plt\n",
    "\n",
    "pos = nx.fruchterman_reingold_layout(B);\n",
    "plt.figure(figsize=(8,8));\n",
    "plt.axis(\"off\");\n",
    "nx.draw_networkx_nodes(women, pos, node_size=300, node_color=\"green\");\n",
    "nx.draw_networkx_nodes(events, pos, node_size=300, node_color=\"blue\");\n",
    "nx.draw_networkx_edges(B, pos, alpha=0.500);\n",
    "nx.draw_networkx_labels(B, pos, font_color=\"white\");\n",
    "plt.show()"
   ]
  },
  {
   "cell_type": "markdown",
   "metadata": {},
   "source": [
    "Unipartite women network (projection of the above):"
   ]
  },
  {
   "cell_type": "code",
   "execution_count": 10,
   "metadata": {},
   "outputs": [],
   "source": [
    "W = nx.Graph()\n",
    "W.add_nodes_from(women)\n",
    "n_women = len(women)\n",
    "\n",
    "#add edges\n",
    "for i, wi in enumerate(women):\n",
    "    for e_idx in range(n_events):\n",
    "        if woman2vect[wi][e_idx]==1:\n",
    "            for j in range(i+1, n_women):\n",
    "                if woman2vect[women[j]][e_idx]==1:\n",
    "                    W.add_edge(wi, women[j])"
   ]
  },
  {
   "cell_type": "code",
   "execution_count": 11,
   "metadata": {},
   "outputs": [
    {
     "data": {
      "image/png": "[encoded data removed]",
      "text/plain": [
       "<Figure size 576x576 with 1 Axes>"
      ]
     },
     "metadata": {},
     "output_type": "display_data"
    }
   ],
   "source": [
    "#pos = nx.fruchterman_reingold_layout(B);\n",
    "plt.figure(figsize=(8,8));\n",
    "plt.axis(\"off\");\n",
    "nx.draw_networkx_nodes(women, pos, node_size=300, node_color=\"green\");\n",
    "nx.draw_networkx_edges(W, pos, alpha=0.500);\n",
    "nx.draw_networkx_labels(W, pos, font_color=\"white\");\n",
    "plt.show()"
   ]
  },
  {
   "cell_type": "markdown",
   "metadata": {},
   "source": [
    "## 2. Hierarchical clustering"
   ]
  },
  {
   "cell_type": "markdown",
   "metadata": {},
   "source": [
    "First, we define the distance matrix between nodes (events). To do so, we consider their pairwise phi-correlation (using the previously defined dictionary **woman2vect**), which we later turn into an Euclidean distance."
   ]
  },
  {
   "cell_type": "code",
   "execution_count": 17,
   "metadata": {},
   "outputs": [
    {
     "name": "stdout",
     "output_type": "stream",
     "text": [
      "153 153.0\n"
     ]
    },
    {
     "data": {
      "text/plain": [
       "(153,)"
      ]
     },
     "execution_count": 17,
     "metadata": {},
     "output_type": "execute_result"
    }
   ],
   "source": [
    "from sklearn.metrics import matthews_corrcoef\n",
    "\n",
    "#build condensed distance matrix\n",
    "phi = []\n",
    "n_women = len(women)\n",
    "for i, wi in enumerate(women):\n",
    "    vec_wi = woman2vect[wi]\n",
    "    for j in range(i+1, n_women):\n",
    "        vec_wj = woman2vect[women[j]]  \n",
    "        phi.append(matthews_corrcoef(vec_wi, vec_wj))\n",
    "        #to check correlations are actually symmetric\n",
    "        #print(matthews_corrcoef(vec_wi, vec_wj)\n",
    "        #      , matthews_corrcoef(vec_wj,vec_wi))\n",
    "        \n",
    "#the expected length is n(n-1)/2\n",
    "print(len(phi), n_women*(n_women-1)/2)\n",
    "#turn correlations to Euclidean distances (the phi are somewhat like the cosine)\n",
    "d = np.sqrt(2*(1-np.array(phi)))\n",
    "d /= max(d)\n",
    "\n",
    "d.shape"
   ]
  },
  {
   "cell_type": "markdown",
   "metadata": {},
   "source": [
    "We are now ready to apply hierarchical clustering. The scipy method gives:"
   ]
  },
  {
   "cell_type": "code",
   "execution_count": 18,
   "metadata": {},
   "outputs": [
    {
     "name": "stdout",
     "output_type": "stream",
     "text": [
      "(17, 4)\n"
     ]
    },
    {
     "data": {
      "image/png": "[encoded data removed]",
      "text/plain": [
       "<Figure size 1800x720 with 1 Axes>"
      ]
     },
     "metadata": {
      "needs_background": "light"
     },
     "output_type": "display_data"
    }
   ],
   "source": [
    "from scipy.cluster.hierarchy import dendrogram, linkage\n",
    "\n",
    "z_sc = linkage(d, 'ward')\n",
    "print(z_sc.shape)\n",
    "fig = plt.figure(figsize=(25, 10))\n",
    "dn = dendrogram(z_sc)\n",
    "plt.show()"
   ]
  },
  {
   "cell_type": "code",
   "execution_count": 19,
   "metadata": {},
   "outputs": [
    {
     "data": {
      "text/plain": [
       "array([[16.        , 17.        ,  0.        ,  2.        ],\n",
       "       [11.        , 12.        ,  0.2766892 ,  2.        ],\n",
       "       [ 7.        , 15.        ,  0.35316046,  2.        ],\n",
       "       [ 1.        ,  3.        ,  0.40406102,  2.        ],\n",
       "       [ 0.        ,  2.        ,  0.40824829,  2.        ],\n",
       "       [ 5.        ,  6.        ,  0.4472136 ,  2.        ],\n",
       "       [ 8.        ,  9.        ,  0.4472136 ,  2.        ],\n",
       "       [10.        , 19.        ,  0.46609234,  3.        ],\n",
       "       [21.        , 23.        ,  0.48828083,  4.        ],\n",
       "       [20.        , 24.        ,  0.59999298,  4.        ],\n",
       "       [13.        , 14.        ,  0.61213202,  2.        ],\n",
       "       [ 4.        , 22.        ,  0.64090007,  3.        ],\n",
       "       [26.        , 29.        ,  0.66025877,  7.        ],\n",
       "       [25.        , 28.        ,  0.67855153,  5.        ],\n",
       "       [18.        , 27.        ,  0.9386196 ,  6.        ],\n",
       "       [31.        , 32.        ,  1.01900634, 11.        ],\n",
       "       [30.        , 33.        ,  1.73703572, 18.        ]])"
      ]
     },
     "execution_count": 19,
     "metadata": {},
     "output_type": "execute_result"
    }
   ],
   "source": [
    "z_sc"
   ]
  },
  {
   "cell_type": "markdown",
   "metadata": {},
   "source": [
    "While our method gives:"
   ]
  },
  {
   "cell_type": "code",
   "execution_count": 20,
   "metadata": {},
   "outputs": [],
   "source": [
    "#for importing from parent directory\n",
    "import os,sys,inspect\n",
    "currentdir = os.path.dirname(os.path.abspath(inspect.getfile(inspect.currentframe())))\n",
    "parentdir = os.path.dirname(currentdir)\n",
    "sys.path.insert(0,parentdir) "
   ]
  },
  {
   "cell_type": "code",
   "execution_count": 21,
   "metadata": {},
   "outputs": [
    {
     "name": "stdout",
     "output_type": "stream",
     "text": [
      "Iteration 0/16...\r",
      "Iteration 1/16...\r",
      "Iteration 2/16...\r",
      "Iteration 3/16...\r",
      "Iteration 4/16...\r",
      "Iteration 5/16...\r",
      "Iteration 6/16...\r",
      "Iteration 7/16...\r",
      "Iteration 8/16...\r",
      "Iteration 9/16...\r",
      "Iteration 10/16...\r",
      "Iteration 11/16...\r",
      "Iteration 12/16...\r",
      "Iteration 13/16...\r",
      "Iteration 14/16...\r",
      "Iteration 15/16...\n",
      "Cluster 14 (size 5) and cluster 6 (size 7) have dist 1.75\n",
      "Cluster 17 (size 6) and cluster 6 (size 7) have dist 1.38\n",
      "Cluster 17 (size 6) and cluster 14 (size 5) have dist 1.02\n",
      "and total polarisation is 1\n",
      "Iteration 16/16...\n",
      "Cluster 17 (size 11) and cluster 6 (size 7) have dist 1.74\n",
      "and total polarisation is 1\n",
      "(17, 4)\n"
     ]
    },
    {
     "data": {
      "image/png": "[encoded data removed]",
      "text/plain": [
       "<Figure size 1800x720 with 1 Axes>"
      ]
     },
     "metadata": {
      "needs_background": "light"
     },
     "output_type": "display_data"
    }
   ],
   "source": [
    "from scipy.cluster.hierarchy import dendrogram\n",
    "from utils.clustering import agglomerative_clustering\n",
    "\n",
    "z_ward, _ = agglomerative_clustering(d, method='ward')\n",
    "print(z_ward.shape)\n",
    "fig = plt.figure(figsize=(25, 10))\n",
    "dn = dendrogram(z_ward)\n",
    "plt.show()"
   ]
  },
  {
   "cell_type": "code",
   "execution_count": 22,
   "metadata": {},
   "outputs": [
    {
     "data": {
      "text/plain": [
       "array([[16.        , 17.        ,  0.        ,  2.        ],\n",
       "       [11.        , 12.        ,  0.2766892 ,  2.        ],\n",
       "       [ 7.        , 15.        ,  0.35316046,  2.        ],\n",
       "       [ 1.        ,  3.        ,  0.40406102,  2.        ],\n",
       "       [ 0.        ,  2.        ,  0.40824829,  2.        ],\n",
       "       [ 5.        ,  6.        ,  0.4472136 ,  2.        ],\n",
       "       [ 8.        ,  9.        ,  0.4472136 ,  2.        ],\n",
       "       [10.        , 19.        ,  0.46609234,  3.        ],\n",
       "       [21.        , 23.        ,  0.48828083,  4.        ],\n",
       "       [20.        , 24.        ,  0.59999298,  4.        ],\n",
       "       [13.        , 14.        ,  0.61213202,  2.        ],\n",
       "       [ 4.        , 22.        ,  0.64090007,  3.        ],\n",
       "       [26.        , 29.        ,  0.66025877,  7.        ],\n",
       "       [25.        , 28.        ,  0.67855153,  5.        ],\n",
       "       [18.        , 27.        ,  0.9386196 ,  6.        ],\n",
       "       [31.        , 32.        ,  1.01900634, 11.        ],\n",
       "       [30.        , 33.        ,  1.73703572, 18.        ]])"
      ]
     },
     "execution_count": 22,
     "metadata": {},
     "output_type": "execute_result"
    }
   ],
   "source": [
    "z_ward"
   ]
  },
  {
   "cell_type": "code",
   "execution_count": 23,
   "metadata": {},
   "outputs": [
    {
     "data": {
      "text/plain": [
       "array([[ True,  True,  True,  True],\n",
       "       [ True,  True,  True,  True],\n",
       "       [ True,  True,  True,  True],\n",
       "       [ True,  True,  True,  True],\n",
       "       [ True,  True,  True,  True],\n",
       "       [ True,  True,  True,  True],\n",
       "       [ True,  True,  True,  True],\n",
       "       [ True,  True,  True,  True],\n",
       "       [ True,  True,  True,  True],\n",
       "       [ True,  True,  True,  True],\n",
       "       [ True,  True,  True,  True],\n",
       "       [ True,  True,  True,  True],\n",
       "       [ True,  True,  True,  True],\n",
       "       [ True,  True,  True,  True],\n",
       "       [ True,  True,  True,  True],\n",
       "       [ True,  True,  True,  True],\n",
       "       [ True,  True,  True,  True]])"
      ]
     },
     "execution_count": 23,
     "metadata": {},
     "output_type": "execute_result"
    }
   ],
   "source": [
    "np.isclose(z_ward,z_sc)"
   ]
  },
  {
   "cell_type": "markdown",
   "metadata": {},
   "source": [
    "Great! Both methods show the expected division in two communities, and our adaptation of the scipy method is validated. The results are however not exactly the same as scipy's for methods that do not use the **nn_chain** algorithm (like \"centroid\"), but that is expected."
   ]
  },
  {
   "cell_type": "markdown",
   "metadata": {},
   "source": [
    "Let's now see what we get when using the polarisation distance, i.e.\n",
    "\n",
    "$$d_{u,v} = d^c_{u,v}( \\pi_u^{1+\\alpha}\\pi_v + \\pi_v^{1+\\alpha}\\pi_u)$$\n",
    "\n",
    "where $\\alpha \\in (0,1.6]$, $\\pi_i$ is the size of cluster $i$ and $d^c_{u,v}$ is the centroid distance between $u$ and $v$, as the clustering criterion:"
   ]
  },
  {
   "cell_type": "code",
   "execution_count": 24,
   "metadata": {},
   "outputs": [
    {
     "name": "stdout",
     "output_type": "stream",
     "text": [
      "Iteration 0/16...\r",
      "Iteration 1/16...\r",
      "Iteration 2/16...\r",
      "Iteration 3/16...\r",
      "Iteration 4/16...\r",
      "Iteration 5/16...\r",
      "Iteration 6/16...\r",
      "Iteration 7/16...\r",
      "Iteration 8/16...\r",
      "Iteration 9/16...\r",
      "Iteration 10/16...\r",
      "Iteration 11/16...\r",
      "Iteration 12/16...\r",
      "Iteration 13/16...\r",
      "Iteration 14/16...\r",
      "Iteration 15/16...\n",
      "Cluster 15 (size 8) and cluster 6 (size 6) have dist 0.58\n",
      "Cluster 17 (size 4) and cluster 6 (size 6) have dist 0.61\n",
      "Cluster 17 (size 4) and cluster 15 (size 8) have dist 0.44\n",
      "and total polarisation is 0\n",
      "Iteration 16/16...\n",
      "Cluster 17 (size 10) and cluster 15 (size 8) have dist 0.44\n",
      "and total polarisation is 0\n",
      "(17, 4)\n"
     ]
    },
    {
     "data": {
      "image/png": "[encoded data removed]",
      "text/plain": [
       "<Figure size 1800x720 with 1 Axes>"
      ]
     },
     "metadata": {
      "needs_background": "light"
     },
     "output_type": "display_data"
    }
   ],
   "source": [
    "from scipy.cluster.hierarchy import dendrogram\n",
    "from utils.clustering import agglomerative_clustering\n",
    "\n",
    "z_pol, pol = agglomerative_clustering(d, method='polarisation', alpha=1, K=None)\n",
    "print(z_pol.shape)\n",
    "fig = plt.figure(figsize=(25, 10))\n",
    "dn = dendrogram(z_pol)\n",
    "plt.show()"
   ]
  },
  {
   "cell_type": "code",
   "execution_count": 25,
   "metadata": {},
   "outputs": [
    {
     "data": {
      "text/plain": [
       "(array([[ 16.        ,  17.        ,   0.        ,   2.        ],\n",
       "        [ 11.        ,  12.        ,   0.2766892 ,   2.        ],\n",
       "        [  7.        ,  15.        ,   0.35316046,   2.        ],\n",
       "        [  1.        ,   3.        ,   0.40406102,   2.        ],\n",
       "        [  0.        ,   2.        ,   0.40824829,   2.        ],\n",
       "        [  5.        ,   6.        ,   0.4472136 ,   2.        ],\n",
       "        [  8.        ,   9.        ,   0.4472136 ,   2.        ],\n",
       "        [ 10.        ,  14.        ,   0.52451612,   2.        ],\n",
       "        [  4.        ,  13.        ,   0.89786792,   2.        ],\n",
       "        [ 21.        ,  23.        ,   5.52426696,   4.        ],\n",
       "        [ 20.        ,  24.        ,   6.78814563,   4.        ],\n",
       "        [ 19.        ,  25.        ,   6.93850373,   4.        ],\n",
       "        [ 18.        ,  26.        ,   9.36571075,   4.        ],\n",
       "        [ 22.        ,  27.        ,  18.95385408,   6.        ],\n",
       "        [ 28.        ,  29.        ,  56.53221658,   8.        ],\n",
       "        [ 30.        ,  31.        , 145.64461329,  10.        ],\n",
       "        [ 32.        ,  33.        , 635.15071242,  18.        ]]),\n",
       " array([0., 0., 0., 0., 0., 0., 0., 0., 0., 0., 0., 0., 0., 0., 0., 0., 0.]))"
      ]
     },
     "execution_count": 25,
     "metadata": {},
     "output_type": "execute_result"
    }
   ],
   "source": [
    "#have to change np print option by activating suppression;\n",
    "#otherwise everything appears in lengthy scientific notation due to large distance (819)\n",
    "np.set_printoptions(suppress=True)\n",
    "\n",
    "z_pol, np.round(pol)"
   ]
  },
  {
   "cell_type": "code",
   "execution_count": 26,
   "metadata": {},
   "outputs": [
    {
     "name": "stdout",
     "output_type": "stream",
     "text": [
      "(17,)\n"
     ]
    },
    {
     "data": {
      "image/png": "[encoded data removed]",
      "text/plain": [
       "<Figure size 432x288 with 1 Axes>"
      ]
     },
     "metadata": {
      "needs_background": "light"
     },
     "output_type": "display_data"
    }
   ],
   "source": [
    "from matplotlib import pyplot as plt\n",
    "print(pol.shape)\n",
    "plt.plot(pol, \"o\")\n",
    "plt.title(\"Polarisation\")\n",
    "plt.show()"
   ]
  },
  {
   "cell_type": "markdown",
   "metadata": {},
   "source": [
    "Looks ok! Our method also computes the global polarisation $P$ (or $pol$ above) at every step (except when there is only one cluster, because the polarisation of such a system is null). The formula is:\n",
    "\n",
    "$$P = K  \\sum_{i=1}^{n}  \\sum_{j=1}^{n}  d^c_{i,j} \\pi_i^{1+\\alpha}\\pi_j $$\n",
    "\n",
    "where $\\alpha \\in (0,1.6]$, $\\pi_i$ is the size of cluster $i$ and $d^c_{i, j}$ is the centroid distance between $i$ and $j$.\n",
    "\n",
    "Note that the last distance given in the linkage matrix, $1188$, is the actual polarisation of the system (up to the normalisation constant $K$, which we took as $1$ here anyway) when only two clusters (32 and 33) are left. \n",
    "\n",
    "Note also that, as we might expect, polarisation seems to increase more or less monotonically when clustering by polarisation distance. Remarkably though, the most polarised state is not the last one (with only 2 clusters) but the previous one (with 3): this makes sense when looking at the (polarisation) distance shown in the dendogram. When considering the network of events instead of that of women, the last state, with 2 clusters, was indeed the one with greater polarisation.\n",
    "\n",
    "Since the computation of polarisation is obviously not available in the scipy function, we cannot compare them in this case."
   ]
  },
  {
   "cell_type": "markdown",
   "metadata": {},
   "source": [
    "Although the computation of the global polarisation is implemented for every method, for now only \"polarisation\" and \"centroid\" use the right distance for the above formula (the centroid distance): I still have to correct the distance for the other cases.\n",
    "\n",
    "Clustering by centroid distance $d^c$ we get:"
   ]
  },
  {
   "cell_type": "code",
   "execution_count": 27,
   "metadata": {},
   "outputs": [
    {
     "name": "stdout",
     "output_type": "stream",
     "text": [
      "Iteration 0/16...\r",
      "Iteration 1/16...\r",
      "Iteration 2/16...\r",
      "Iteration 3/16...\r",
      "Iteration 4/16...\r",
      "Iteration 5/16...\r",
      "Iteration 6/16...\r",
      "Iteration 7/16...\r",
      "Iteration 8/16...\r",
      "Iteration 9/16...\r",
      "Iteration 10/16...\r",
      "Iteration 11/16...\r",
      "Iteration 12/16...\r",
      "Iteration 13/16...\r",
      "Iteration 14/16...\r",
      "Iteration 15/16...\n",
      "Cluster 15 (size 9) and cluster 6 (size 7) have dist 0.59\n",
      "Cluster 17 (size 2) and cluster 6 (size 7) have dist 0.77\n",
      "Cluster 17 (size 2) and cluster 15 (size 9) have dist 0.55\n",
      "and total polarisation is 0\n",
      "Iteration 16/16...\n",
      "Cluster 17 (size 11) and cluster 6 (size 7) have dist 0.59\n",
      "and total polarisation is 0\n",
      "(17, 4)\n"
     ]
    },
    {
     "data": {
      "image/png": "[encoded data removed]",
      "text/plain": [
       "<Figure size 1800x720 with 1 Axes>"
      ]
     },
     "metadata": {
      "needs_background": "light"
     },
     "output_type": "display_data"
    }
   ],
   "source": [
    "from scipy.cluster.hierarchy import dendrogram\n",
    "from utils.clustering import agglomerative_clustering\n",
    "\n",
    "z_ctr, pol = agglomerative_clustering(d, method='centroid', alpha=1, K=None)\n",
    "print(z_ctr.shape)\n",
    "fig = plt.figure(figsize=(25, 10))\n",
    "dn = dendrogram(z_ctr)\n",
    "plt.show()"
   ]
  },
  {
   "cell_type": "code",
   "execution_count": 28,
   "metadata": {},
   "outputs": [
    {
     "data": {
      "text/plain": [
       "(array([[16.        , 17.        ,  0.        ,  2.        ],\n",
       "        [11.        , 12.        ,  0.2766892 ,  2.        ],\n",
       "        [ 7.        , 15.        ,  0.35316046,  2.        ],\n",
       "        [ 3.        ,  5.        ,  0.39145313,  2.        ],\n",
       "        [ 2.        , 21.        ,  0.39878708,  3.        ],\n",
       "        [10.        , 19.        ,  0.4036478 ,  3.        ],\n",
       "        [ 1.        , 22.        ,  0.40406102,  4.        ],\n",
       "        [ 0.        , 24.        ,  0.40824829,  5.        ],\n",
       "        [ 6.        , 25.        ,  0.4178344 ,  6.        ],\n",
       "        [ 9.        , 20.        ,  0.4242591 ,  3.        ],\n",
       "        [ 8.        , 27.        ,  0.4472136 ,  4.        ],\n",
       "        [23.        , 28.        ,  0.45683667,  7.        ],\n",
       "        [ 4.        , 26.        ,  0.50135509,  7.        ],\n",
       "        [14.        , 29.        ,  0.53382498,  8.        ],\n",
       "        [18.        , 31.        ,  0.55136661, 10.        ],\n",
       "        [13.        , 32.        ,  0.55386097, 11.        ],\n",
       "        [30.        , 33.        ,  0.59386078, 18.        ]]),\n",
       " array([0., 0., 0., 0., 0., 0., 0., 0., 0., 0., 0., 0., 0., 0., 0., 0., 0.]))"
      ]
     },
     "execution_count": 28,
     "metadata": {},
     "output_type": "execute_result"
    }
   ],
   "source": [
    "#have to change np print option by activating suppression;\n",
    "#otherwise everything appears in lengthy scientific notation due to large distance (819)\n",
    "np.set_printoptions(suppress=True)\n",
    "\n",
    "z_ctr, np.round(pol)"
   ]
  },
  {
   "cell_type": "code",
   "execution_count": 29,
   "metadata": {},
   "outputs": [
    {
     "data": {
      "image/png": "[encoded data removed]",
      "text/plain": [
       "<Figure size 432x288 with 1 Axes>"
      ]
     },
     "metadata": {
      "needs_background": "light"
     },
     "output_type": "display_data"
    }
   ],
   "source": [
    "from matplotlib import pyplot as plt\n",
    "#print(pol.shape)\n",
    "plt.plot(pol, \"o\")\n",
    "plt.title(\"Polarisation\")\n",
    "plt.show()"
   ]
  },
  {
   "cell_type": "markdown",
   "metadata": {},
   "source": [
    "As expected, polarisation flutuates a bit more in this case. Remarkably, the maximum polarisation, which in this case is that of the last state, is higher with this method ($1540$) than with polarisation distance ($1324$). "
   ]
  },
  {
   "cell_type": "markdown",
   "metadata": {},
   "source": [
    "## 3. Dendogram/tree topologic distances for different $\\alpha$"
   ]
  },
  {
   "cell_type": "markdown",
   "metadata": {},
   "source": [
    "Let's check the tree distance between our Ward, polarisation and centroid-obtained dendograms. I use the library *dendropy*."
   ]
  },
  {
   "cell_type": "code",
   "execution_count": 30,
   "metadata": {},
   "outputs": [],
   "source": [
    "#!pip install dendropy"
   ]
  },
  {
   "cell_type": "markdown",
   "metadata": {},
   "source": [
    "Function to produce dendogram/tree string in Newick format from a linkage matrix:"
   ]
  },
  {
   "cell_type": "code",
   "execution_count": 31,
   "metadata": {},
   "outputs": [
    {
     "name": "stdout",
     "output_type": "stream",
     "text": [
      "((CHARLOTTE,(ELEANOR,(EVELYN,(LAURA,(THERESA,(BRENDA,FRANCES)))))),(NORA,((OLIVIA,FLORA),(HELEN,((MYRNA,(KATHERINE,SYLVIA)),(RUTH,(VERNE,(PEARL,DOROTHY))))))));\n",
      "((((PEARL,DOROTHY),(RUTH,VERNE)),((KATHERINE,SYLVIA),(MYRNA,HELEN))),(((OLIVIA,FLORA),(CHARLOTTE,NORA)),((EVELYN,THERESA),((LAURA,BRENDA),(FRANCES,ELEANOR)))));\n"
     ]
    }
   ],
   "source": [
    "import dendropy\n",
    "\n",
    "def z_to_tree_str_newick(z):\n",
    "    tree_str = \"\"\n",
    "    clusters = women\n",
    "    idx2woman = {i:wi for i, wi in enumerate(women)}\n",
    "    woman2idx = {wi:i for i, wi in enumerate(women)}\n",
    "    n = z.shape[0] + 1\n",
    "    for i in range(n-1):\n",
    "        #print(z[i, :2])\n",
    "        new_clus = \"(\" + idx2woman[int(z[i,0])] + \",\" + idx2woman[int(z[i,1])] + \")\"\n",
    "        idx2woman[int(i+n)] = new_clus\n",
    "        #print(int(i+z.shape[0]))\n",
    "    idx2woman[int(i+n)] += \";\"\n",
    "    return idx2woman[int(2*n-2)]\n",
    "\n",
    "tree_str1 = z_to_tree_str_newick(z_ctr)\n",
    "tree_str2 = z_to_tree_str_newick(z_pol)\n",
    "\n",
    "print(f\"{tree_str1}\\n{tree_str2}\")"
   ]
  },
  {
   "cell_type": "markdown",
   "metadata": {},
   "source": [
    "Function to compute the unweighted Robinson-Foulds distance between two trees given their strings in Newick format:"
   ]
  },
  {
   "cell_type": "code",
   "execution_count": 32,
   "metadata": {},
   "outputs": [],
   "source": [
    "import dendropy\n",
    "from dendropy.calculate import treecompare\n",
    "def RF_dist(tree_str1, tree_str2):\n",
    "    # trees need to have the same TaxonNamespace for RF distance\n",
    "    tns = dendropy.TaxonNamespace()\n",
    "    tree1 = dendropy.Tree.get_from_string(tree_str1, \"newick\",\n",
    "            taxon_namespace=tns)\n",
    "    tree2 = dendropy.Tree.get_from_string(tree_str2, \"newick\",\n",
    "            taxon_namespace=tns)\n",
    "    #have to compute bipàrtitions (whatever it means) of both trees \n",
    "    #before calling symmetric_difference\n",
    "    tree1.encode_bipartitions()\n",
    "    tree2.encode_bipartitions()\n",
    "    #return unweighted RF distance\n",
    "    return treecompare.symmetric_difference(tree1, tree2)"
   ]
  },
  {
   "cell_type": "markdown",
   "metadata": {},
   "source": [
    "Produce and save plot of RF distances vs $\\alpha$:"
   ]
  },
  {
   "cell_type": "code",
   "execution_count": 33,
   "metadata": {},
   "outputs": [
    {
     "name": "stdout",
     "output_type": "stream",
     "text": [
      "Iteration 15/16...\n",
      "Cluster 15 (size 8) and cluster 6 (size 6) have dist 0.58\n",
      "Cluster 17 (size 4) and cluster 6 (size 6) have dist 0.61\n",
      "Cluster 17 (size 4) and cluster 15 (size 8) have dist 0.44\n",
      "and total polarisation is 1\n",
      "Iteration 16/16...\n",
      "Cluster 17 (size 12) and cluster 6 (size 6) have dist 0.55\n",
      "and total polarisation is 0\n",
      "Iteration 15/16...\n",
      "Cluster 15 (size 8) and cluster 6 (size 6) have dist 0.58\n",
      "Cluster 17 (size 4) and cluster 6 (size 6) have dist 0.61\n",
      "Cluster 17 (size 4) and cluster 15 (size 8) have dist 0.44\n",
      "and total polarisation is 1\n",
      "Iteration 16/16...\n",
      "Cluster 17 (size 12) and cluster 6 (size 6) have dist 0.55\n",
      "and total polarisation is 0\n",
      "Iteration 15/16...\n",
      "Cluster 15 (size 9) and cluster 6 (size 7) have dist 0.59\n",
      "Cluster 17 (size 2) and cluster 6 (size 7) have dist 0.77\n",
      "Cluster 17 (size 2) and cluster 15 (size 9) have dist 0.55\n",
      "and total polarisation is 0\n",
      "Iteration 16/16...\n",
      "Cluster 17 (size 11) and cluster 6 (size 7) have dist 0.59\n",
      "and total polarisation is 0\n",
      "Iteration 15/16...\n",
      "Cluster 14 (size 5) and cluster 6 (size 7) have dist 1.75\n",
      "Cluster 17 (size 6) and cluster 6 (size 7) have dist 1.38\n",
      "Cluster 17 (size 6) and cluster 14 (size 5) have dist 1.02\n",
      "and total polarisation is 1\n",
      "Iteration 16/16...\n",
      "Cluster 17 (size 11) and cluster 6 (size 7) have dist 1.74\n",
      "and total polarisation is 1\n",
      "Iteration 15/16...\n",
      "Cluster 15 (size 8) and cluster 6 (size 6) have dist 0.58\n",
      "Cluster 17 (size 4) and cluster 6 (size 6) have dist 0.61\n",
      "Cluster 17 (size 4) and cluster 15 (size 8) have dist 0.44\n",
      "and total polarisation is 0\n",
      "Iteration 16/16...\n",
      "Cluster 17 (size 10) and cluster 15 (size 8) have dist 0.44\n",
      "and total polarisation is 0\n",
      "Iteration 15/16...\n",
      "Cluster 15 (size 9) and cluster 6 (size 7) have dist 0.59\n",
      "Cluster 17 (size 2) and cluster 6 (size 7) have dist 0.77\n",
      "Cluster 17 (size 2) and cluster 15 (size 9) have dist 0.55\n",
      "and total polarisation is 0\n",
      "Iteration 16/16...\n",
      "Cluster 17 (size 11) and cluster 6 (size 7) have dist 0.59\n",
      "and total polarisation is 0\n",
      "Iteration 15/16...\n",
      "Cluster 14 (size 5) and cluster 6 (size 7) have dist 1.75\n",
      "Cluster 17 (size 6) and cluster 6 (size 7) have dist 1.38\n",
      "Cluster 17 (size 6) and cluster 14 (size 5) have dist 1.02\n",
      "and total polarisation is 1\n",
      "Iteration 16/16...\n",
      "Cluster 17 (size 11) and cluster 6 (size 7) have dist 1.74\n",
      "and total polarisation is 1\n",
      "Iteration 15/16...\n",
      "Cluster 15 (size 8) and cluster 6 (size 6) have dist 0.58\n",
      "Cluster 17 (size 4) and cluster 6 (size 6) have dist 0.61\n",
      "Cluster 17 (size 4) and cluster 15 (size 8) have dist 0.44\n",
      "and total polarisation is 0\n",
      "Iteration 16/16...\n",
      "Cluster 17 (size 10) and cluster 15 (size 8) have dist 0.44\n",
      "and total polarisation is 0\n",
      "Iteration 15/16...\n",
      "Cluster 15 (size 9) and cluster 6 (size 7) have dist 0.59\n",
      "Cluster 17 (size 2) and cluster 6 (size 7) have dist 0.77\n",
      "Cluster 17 (size 2) and cluster 15 (size 9) have dist 0.55\n",
      "and total polarisation is 0\n",
      "Iteration 16/16...\n",
      "Cluster 17 (size 11) and cluster 6 (size 7) have dist 0.59\n",
      "and total polarisation is 0\n",
      "Iteration 15/16...\n",
      "Cluster 14 (size 5) and cluster 6 (size 7) have dist 1.75\n",
      "Cluster 17 (size 6) and cluster 6 (size 7) have dist 1.38\n",
      "Cluster 17 (size 6) and cluster 14 (size 5) have dist 1.02\n",
      "and total polarisation is 1\n",
      "Iteration 16/16...\n",
      "Cluster 17 (size 11) and cluster 6 (size 7) have dist 1.74\n",
      "and total polarisation is 1\n",
      "Iteration 15/16...\n",
      "Cluster 15 (size 8) and cluster 6 (size 6) have dist 0.58\n",
      "Cluster 17 (size 4) and cluster 6 (size 6) have dist 0.61\n",
      "Cluster 17 (size 4) and cluster 15 (size 8) have dist 0.44\n",
      "and total polarisation is 0\n",
      "Iteration 16/16...\n",
      "Cluster 17 (size 10) and cluster 15 (size 8) have dist 0.44\n",
      "and total polarisation is 0\n",
      "Iteration 15/16...\n",
      "Cluster 15 (size 9) and cluster 6 (size 7) have dist 0.59\n",
      "Cluster 17 (size 2) and cluster 6 (size 7) have dist 0.77\n",
      "Cluster 17 (size 2) and cluster 15 (size 9) have dist 0.55\n",
      "and total polarisation is 0\n",
      "Iteration 16/16...\n",
      "Cluster 17 (size 11) and cluster 6 (size 7) have dist 0.59\n",
      "and total polarisation is 0\n",
      "Iteration 15/16...\n",
      "Cluster 14 (size 5) and cluster 6 (size 7) have dist 1.75\n",
      "Cluster 17 (size 6) and cluster 6 (size 7) have dist 1.38\n",
      "Cluster 17 (size 6) and cluster 14 (size 5) have dist 1.02\n",
      "and total polarisation is 1\n",
      "Iteration 16/16...\n",
      "Cluster 17 (size 11) and cluster 6 (size 7) have dist 1.74\n",
      "and total polarisation is 1\n",
      "Iteration 15/16...\n",
      "Cluster 15 (size 8) and cluster 6 (size 6) have dist 0.58\n",
      "Cluster 17 (size 4) and cluster 6 (size 6) have dist 0.61\n",
      "Cluster 17 (size 4) and cluster 15 (size 8) have dist 0.44\n",
      "and total polarisation is 0\n",
      "Iteration 16/16...\n",
      "Cluster 17 (size 10) and cluster 15 (size 8) have dist 0.44\n",
      "and total polarisation is 0\n",
      "Iteration 15/16...\n",
      "Cluster 15 (size 9) and cluster 6 (size 7) have dist 0.59\n",
      "Cluster 17 (size 2) and cluster 6 (size 7) have dist 0.77\n",
      "Cluster 17 (size 2) and cluster 15 (size 9) have dist 0.55\n",
      "and total polarisation is 0\n",
      "Iteration 16/16...\n",
      "Cluster 17 (size 11) and cluster 6 (size 7) have dist 0.59\n",
      "and total polarisation is 0\n",
      "Iteration 15/16...\n",
      "Cluster 14 (size 5) and cluster 6 (size 7) have dist 1.75\n",
      "Cluster 17 (size 6) and cluster 6 (size 7) have dist 1.38\n",
      "Cluster 17 (size 6) and cluster 14 (size 5) have dist 1.02\n",
      "and total polarisation is 1\n",
      "Iteration 16/16...\n",
      "Cluster 17 (size 11) and cluster 6 (size 7) have dist 1.74\n",
      "and total polarisation is 1\n",
      "Iteration 15/16...\n",
      "Cluster 15 (size 8) and cluster 6 (size 6) have dist 0.58\n",
      "Cluster 17 (size 4) and cluster 6 (size 6) have dist 0.61\n",
      "Cluster 17 (size 4) and cluster 15 (size 8) have dist 0.44\n",
      "and total polarisation is 0\n",
      "Iteration 16/16...\n",
      "Cluster 17 (size 10) and cluster 15 (size 8) have dist 0.44\n",
      "and total polarisation is 0\n",
      "Iteration 15/16...\n",
      "Cluster 15 (size 9) and cluster 6 (size 7) have dist 0.59\n",
      "Cluster 17 (size 2) and cluster 6 (size 7) have dist 0.77\n",
      "Cluster 17 (size 2) and cluster 15 (size 9) have dist 0.55\n",
      "and total polarisation is 0\n",
      "Iteration 16/16...\n",
      "Cluster 17 (size 11) and cluster 6 (size 7) have dist 0.59\n",
      "and total polarisation is 0\n",
      "Iteration 15/16...\n",
      "Cluster 14 (size 5) and cluster 6 (size 7) have dist 1.75\n",
      "Cluster 17 (size 6) and cluster 6 (size 7) have dist 1.38\n",
      "Cluster 17 (size 6) and cluster 14 (size 5) have dist 1.02\n",
      "and total polarisation is 1\n",
      "Iteration 16/16...\n",
      "Cluster 17 (size 11) and cluster 6 (size 7) have dist 1.74\n",
      "and total polarisation is 1\n",
      "Iteration 15/16...\n",
      "Cluster 15 (size 8) and cluster 6 (size 6) have dist 0.58\n",
      "Cluster 17 (size 4) and cluster 6 (size 6) have dist 0.61\n",
      "Cluster 17 (size 4) and cluster 15 (size 8) have dist 0.44\n",
      "and total polarisation is 0\n",
      "Iteration 16/16...\n",
      "Cluster 17 (size 10) and cluster 15 (size 8) have dist 0.44\n",
      "and total polarisation is 0\n",
      "Iteration 15/16...\n",
      "Cluster 15 (size 9) and cluster 6 (size 7) have dist 0.59\n",
      "Cluster 17 (size 2) and cluster 6 (size 7) have dist 0.77\n",
      "Cluster 17 (size 2) and cluster 15 (size 9) have dist 0.55\n",
      "and total polarisation is 0\n",
      "Iteration 16/16...\n",
      "Cluster 17 (size 11) and cluster 6 (size 7) have dist 0.59\n",
      "and total polarisation is 0\n",
      "Iteration 15/16...\n",
      "Cluster 14 (size 5) and cluster 6 (size 7) have dist 1.75\n",
      "Cluster 17 (size 6) and cluster 6 (size 7) have dist 1.38\n",
      "Cluster 17 (size 6) and cluster 14 (size 5) have dist 1.02\n",
      "and total polarisation is 1\n",
      "Iteration 16/16...\n",
      "Cluster 17 (size 11) and cluster 6 (size 7) have dist 1.74\n",
      "and total polarisation is 1\n",
      "Iteration 15/16...\n",
      "Cluster 15 (size 8) and cluster 6 (size 6) have dist 0.58\n",
      "Cluster 17 (size 4) and cluster 6 (size 6) have dist 0.61\n",
      "Cluster 17 (size 4) and cluster 15 (size 8) have dist 0.44\n",
      "and total polarisation is 0\n",
      "Iteration 16/16...\n",
      "Cluster 17 (size 10) and cluster 15 (size 8) have dist 0.44\n",
      "and total polarisation is 0\n",
      "Iteration 15/16...\n",
      "Cluster 15 (size 9) and cluster 6 (size 7) have dist 0.59\n",
      "Cluster 17 (size 2) and cluster 6 (size 7) have dist 0.77\n",
      "Cluster 17 (size 2) and cluster 15 (size 9) have dist 0.55\n",
      "and total polarisation is 0\n",
      "Iteration 16/16...\n",
      "Cluster 17 (size 11) and cluster 6 (size 7) have dist 0.59\n",
      "and total polarisation is 0\n",
      "Iteration 15/16...\n",
      "Cluster 14 (size 5) and cluster 6 (size 7) have dist 1.75\n",
      "Cluster 17 (size 6) and cluster 6 (size 7) have dist 1.38\n",
      "Cluster 17 (size 6) and cluster 14 (size 5) have dist 1.02\n",
      "and total polarisation is 1\n",
      "Iteration 16/16...\n",
      "Cluster 17 (size 11) and cluster 6 (size 7) have dist 1.74\n",
      "and total polarisation is 1\n"
     ]
    },
    {
     "name": "stdout",
     "output_type": "stream",
     "text": [
      "Iteration 15/16...\n",
      "Cluster 15 (size 8) and cluster 6 (size 6) have dist 0.58\n",
      "Cluster 17 (size 4) and cluster 6 (size 6) have dist 0.61\n",
      "Cluster 17 (size 4) and cluster 15 (size 8) have dist 0.44\n",
      "and total polarisation is 0\n",
      "Iteration 16/16...\n",
      "Cluster 17 (size 10) and cluster 15 (size 8) have dist 0.44\n",
      "and total polarisation is 0\n",
      "Iteration 15/16...\n",
      "Cluster 15 (size 9) and cluster 6 (size 7) have dist 0.59\n",
      "Cluster 17 (size 2) and cluster 6 (size 7) have dist 0.77\n",
      "Cluster 17 (size 2) and cluster 15 (size 9) have dist 0.55\n",
      "and total polarisation is 0\n",
      "Iteration 16/16...\n",
      "Cluster 17 (size 11) and cluster 6 (size 7) have dist 0.59\n",
      "and total polarisation is 0\n",
      "Iteration 15/16...\n",
      "Cluster 14 (size 5) and cluster 6 (size 7) have dist 1.75\n",
      "Cluster 17 (size 6) and cluster 6 (size 7) have dist 1.38\n",
      "Cluster 17 (size 6) and cluster 14 (size 5) have dist 1.02\n",
      "and total polarisation is 1\n",
      "Iteration 16/16...\n",
      "Cluster 17 (size 11) and cluster 6 (size 7) have dist 1.74\n",
      "and total polarisation is 1\n",
      "Iteration 15/16...\n",
      "Cluster 15 (size 8) and cluster 6 (size 6) have dist 0.58\n",
      "Cluster 17 (size 4) and cluster 6 (size 6) have dist 0.61\n",
      "Cluster 17 (size 4) and cluster 15 (size 8) have dist 0.44\n",
      "and total polarisation is 0\n",
      "Iteration 16/16...\n",
      "Cluster 17 (size 10) and cluster 15 (size 8) have dist 0.44\n",
      "and total polarisation is 0\n",
      "Iteration 15/16...\n",
      "Cluster 15 (size 9) and cluster 6 (size 7) have dist 0.59\n",
      "Cluster 17 (size 2) and cluster 6 (size 7) have dist 0.77\n",
      "Cluster 17 (size 2) and cluster 15 (size 9) have dist 0.55\n",
      "and total polarisation is 0\n",
      "Iteration 16/16...\n",
      "Cluster 17 (size 11) and cluster 6 (size 7) have dist 0.59\n",
      "and total polarisation is 0\n",
      "Iteration 15/16...\n",
      "Cluster 14 (size 5) and cluster 6 (size 7) have dist 1.75\n",
      "Cluster 17 (size 6) and cluster 6 (size 7) have dist 1.38\n",
      "Cluster 17 (size 6) and cluster 14 (size 5) have dist 1.02\n",
      "and total polarisation is 1\n",
      "Iteration 16/16...\n",
      "Cluster 17 (size 11) and cluster 6 (size 7) have dist 1.74\n",
      "and total polarisation is 1\n",
      "Iteration 15/16...\n",
      "Cluster 15 (size 8) and cluster 6 (size 6) have dist 0.58\n",
      "Cluster 17 (size 4) and cluster 6 (size 6) have dist 0.61\n",
      "Cluster 17 (size 4) and cluster 15 (size 8) have dist 0.44\n",
      "and total polarisation is 0\n",
      "Iteration 16/16...\n",
      "Cluster 17 (size 10) and cluster 15 (size 8) have dist 0.44\n",
      "and total polarisation is 0\n",
      "Iteration 15/16...\n",
      "Cluster 15 (size 9) and cluster 6 (size 7) have dist 0.59\n",
      "Cluster 17 (size 2) and cluster 6 (size 7) have dist 0.77\n",
      "Cluster 17 (size 2) and cluster 15 (size 9) have dist 0.55\n",
      "and total polarisation is 0\n",
      "Iteration 16/16...\n",
      "Cluster 17 (size 11) and cluster 6 (size 7) have dist 0.59\n",
      "and total polarisation is 0\n",
      "Iteration 15/16...\n",
      "Cluster 14 (size 5) and cluster 6 (size 7) have dist 1.75\n",
      "Cluster 17 (size 6) and cluster 6 (size 7) have dist 1.38\n",
      "Cluster 17 (size 6) and cluster 14 (size 5) have dist 1.02\n",
      "and total polarisation is 1\n",
      "Iteration 16/16...\n",
      "Cluster 17 (size 11) and cluster 6 (size 7) have dist 1.74\n",
      "and total polarisation is 1\n",
      "Iteration 15/16...\n",
      "Cluster 15 (size 8) and cluster 6 (size 6) have dist 0.58\n",
      "Cluster 17 (size 4) and cluster 6 (size 6) have dist 0.61\n",
      "Cluster 17 (size 4) and cluster 15 (size 8) have dist 0.44\n",
      "and total polarisation is 0\n",
      "Iteration 16/16...\n",
      "Cluster 17 (size 10) and cluster 15 (size 8) have dist 0.44\n",
      "and total polarisation is 0\n",
      "Iteration 15/16...\n",
      "Cluster 15 (size 9) and cluster 6 (size 7) have dist 0.59\n",
      "Cluster 17 (size 2) and cluster 6 (size 7) have dist 0.77\n",
      "Cluster 17 (size 2) and cluster 15 (size 9) have dist 0.55\n",
      "and total polarisation is 0\n",
      "Iteration 16/16...\n",
      "Cluster 17 (size 11) and cluster 6 (size 7) have dist 0.59\n",
      "and total polarisation is 0\n",
      "Iteration 15/16...\n",
      "Cluster 14 (size 5) and cluster 6 (size 7) have dist 1.75\n",
      "Cluster 17 (size 6) and cluster 6 (size 7) have dist 1.38\n",
      "Cluster 17 (size 6) and cluster 14 (size 5) have dist 1.02\n",
      "and total polarisation is 1\n",
      "Iteration 16/16...\n",
      "Cluster 17 (size 11) and cluster 6 (size 7) have dist 1.74\n",
      "and total polarisation is 1\n",
      "Iteration 15/16...\n",
      "Cluster 15 (size 8) and cluster 6 (size 6) have dist 0.58\n",
      "Cluster 17 (size 4) and cluster 6 (size 6) have dist 0.61\n",
      "Cluster 17 (size 4) and cluster 15 (size 8) have dist 0.44\n",
      "and total polarisation is 0\n",
      "Iteration 16/16...\n",
      "Cluster 17 (size 10) and cluster 15 (size 8) have dist 0.44\n",
      "and total polarisation is 0\n",
      "Iteration 15/16...\n",
      "Cluster 15 (size 9) and cluster 6 (size 7) have dist 0.59\n",
      "Cluster 17 (size 2) and cluster 6 (size 7) have dist 0.77\n",
      "Cluster 17 (size 2) and cluster 15 (size 9) have dist 0.55\n",
      "and total polarisation is 0\n",
      "Iteration 16/16...\n",
      "Cluster 17 (size 11) and cluster 6 (size 7) have dist 0.59\n",
      "and total polarisation is 0\n",
      "Iteration 15/16...\n",
      "Cluster 14 (size 5) and cluster 6 (size 7) have dist 1.75\n",
      "Cluster 17 (size 6) and cluster 6 (size 7) have dist 1.38\n",
      "Cluster 17 (size 6) and cluster 14 (size 5) have dist 1.02\n",
      "and total polarisation is 1\n",
      "Iteration 16/16...\n",
      "Cluster 17 (size 11) and cluster 6 (size 7) have dist 1.74\n",
      "and total polarisation is 1\n",
      "Iteration 15/16...\n",
      "Cluster 15 (size 8) and cluster 6 (size 6) have dist 0.58\n",
      "Cluster 17 (size 4) and cluster 6 (size 6) have dist 0.61\n",
      "Cluster 17 (size 4) and cluster 15 (size 8) have dist 0.44\n",
      "and total polarisation is 0\n",
      "Iteration 16/16...\n",
      "Cluster 17 (size 10) and cluster 15 (size 8) have dist 0.44\n",
      "and total polarisation is 0\n",
      "Iteration 15/16...\n",
      "Cluster 15 (size 9) and cluster 6 (size 7) have dist 0.59\n",
      "Cluster 17 (size 2) and cluster 6 (size 7) have dist 0.77\n",
      "Cluster 17 (size 2) and cluster 15 (size 9) have dist 0.55\n",
      "and total polarisation is 0\n",
      "Iteration 16/16...\n",
      "Cluster 17 (size 11) and cluster 6 (size 7) have dist 0.59\n",
      "and total polarisation is 0\n",
      "Iteration 15/16...\n",
      "Cluster 14 (size 5) and cluster 6 (size 7) have dist 1.75\n",
      "Cluster 17 (size 6) and cluster 6 (size 7) have dist 1.38\n",
      "Cluster 17 (size 6) and cluster 14 (size 5) have dist 1.02\n",
      "and total polarisation is 1\n",
      "Iteration 16/16...\n",
      "Cluster 17 (size 11) and cluster 6 (size 7) have dist 1.74\n",
      "and total polarisation is 1\n",
      "Iteration 15/16...\n",
      "Cluster 15 (size 8) and cluster 6 (size 6) have dist 0.58\n",
      "Cluster 17 (size 4) and cluster 6 (size 6) have dist 0.61\n",
      "Cluster 17 (size 4) and cluster 15 (size 8) have dist 0.44\n",
      "and total polarisation is 0\n",
      "Iteration 16/16...\n",
      "Cluster 17 (size 10) and cluster 15 (size 8) have dist 0.44\n",
      "and total polarisation is 0\n",
      "Iteration 15/16...\n",
      "Cluster 15 (size 9) and cluster 6 (size 7) have dist 0.59\n",
      "Cluster 17 (size 2) and cluster 6 (size 7) have dist 0.77\n",
      "Cluster 17 (size 2) and cluster 15 (size 9) have dist 0.55\n",
      "and total polarisation is 0\n",
      "Iteration 16/16...\n",
      "Cluster 17 (size 11) and cluster 6 (size 7) have dist 0.59\n",
      "and total polarisation is 0\n",
      "Iteration 15/16...\n",
      "Cluster 14 (size 5) and cluster 6 (size 7) have dist 1.75\n",
      "Cluster 17 (size 6) and cluster 6 (size 7) have dist 1.38\n",
      "Cluster 17 (size 6) and cluster 14 (size 5) have dist 1.02\n",
      "and total polarisation is 1\n",
      "Iteration 16/16...\n",
      "Cluster 17 (size 11) and cluster 6 (size 7) have dist 1.74\n",
      "and total polarisation is 1\n",
      "Iteration 15/16...\n",
      "Cluster 15 (size 8) and cluster 6 (size 6) have dist 0.58\n",
      "Cluster 17 (size 4) and cluster 6 (size 6) have dist 0.61\n",
      "Cluster 17 (size 4) and cluster 15 (size 8) have dist 0.44\n",
      "and total polarisation is 0\n",
      "Iteration 16/16...\n",
      "Cluster 17 (size 10) and cluster 15 (size 8) have dist 0.44\n",
      "and total polarisation is 0\n",
      "Iteration 15/16...\n",
      "Cluster 15 (size 9) and cluster 6 (size 7) have dist 0.59\n",
      "Cluster 17 (size 2) and cluster 6 (size 7) have dist 0.77\n",
      "Cluster 17 (size 2) and cluster 15 (size 9) have dist 0.55\n",
      "and total polarisation is 0\n",
      "Iteration 16/16...\n",
      "Cluster 17 (size 11) and cluster 6 (size 7) have dist 0.59\n",
      "and total polarisation is 0\n",
      "Iteration 15/16...\n",
      "Cluster 14 (size 5) and cluster 6 (size 7) have dist 1.75\n",
      "Cluster 17 (size 6) and cluster 6 (size 7) have dist 1.38\n",
      "Cluster 17 (size 6) and cluster 14 (size 5) have dist 1.02\n",
      "and total polarisation is 1\n",
      "Iteration 16/16...\n",
      "Cluster 17 (size 11) and cluster 6 (size 7) have dist 1.74\n",
      "and total polarisation is 1\n",
      "Iteration 15/16...\n",
      "Cluster 15 (size 8) and cluster 6 (size 6) have dist 0.58\n",
      "Cluster 17 (size 4) and cluster 6 (size 6) have dist 0.61\n",
      "Cluster 17 (size 4) and cluster 15 (size 8) have dist 0.44\n",
      "and total polarisation is 0\n",
      "Iteration 16/16...\n",
      "Cluster 17 (size 10) and cluster 15 (size 8) have dist 0.44\n",
      "and total polarisation is -1\n"
     ]
    },
    {
     "name": "stdout",
     "output_type": "stream",
     "text": [
      "Iteration 15/16...\n",
      "Cluster 15 (size 9) and cluster 6 (size 7) have dist 0.59\n",
      "Cluster 17 (size 2) and cluster 6 (size 7) have dist 0.77\n",
      "Cluster 17 (size 2) and cluster 15 (size 9) have dist 0.55\n",
      "and total polarisation is 0\n",
      "Iteration 16/16...\n",
      "Cluster 17 (size 11) and cluster 6 (size 7) have dist 0.59\n",
      "and total polarisation is 0\n",
      "Iteration 15/16...\n",
      "Cluster 14 (size 5) and cluster 6 (size 7) have dist 1.75\n",
      "Cluster 17 (size 6) and cluster 6 (size 7) have dist 1.38\n",
      "Cluster 17 (size 6) and cluster 14 (size 5) have dist 1.02\n",
      "and total polarisation is 1\n",
      "Iteration 16/16...\n",
      "Cluster 17 (size 11) and cluster 6 (size 7) have dist 1.74\n",
      "and total polarisation is 1\n",
      "Iteration 15/16...\n",
      "Cluster 15 (size 8) and cluster 6 (size 6) have dist 0.58\n",
      "Cluster 17 (size 4) and cluster 6 (size 6) have dist 0.61\n",
      "Cluster 17 (size 4) and cluster 15 (size 8) have dist 0.44\n",
      "and total polarisation is 0\n",
      "Iteration 16/16...\n",
      "Cluster 17 (size 10) and cluster 15 (size 8) have dist 0.44\n",
      "and total polarisation is -1\n",
      "Iteration 15/16...\n",
      "Cluster 15 (size 9) and cluster 6 (size 7) have dist 0.59\n",
      "Cluster 17 (size 2) and cluster 6 (size 7) have dist 0.77\n",
      "Cluster 17 (size 2) and cluster 15 (size 9) have dist 0.55\n",
      "and total polarisation is 0\n",
      "Iteration 16/16...\n",
      "Cluster 17 (size 11) and cluster 6 (size 7) have dist 0.59\n",
      "and total polarisation is 0\n",
      "Iteration 15/16...\n",
      "Cluster 14 (size 5) and cluster 6 (size 7) have dist 1.75\n",
      "Cluster 17 (size 6) and cluster 6 (size 7) have dist 1.38\n",
      "Cluster 17 (size 6) and cluster 14 (size 5) have dist 1.02\n",
      "and total polarisation is 1\n",
      "Iteration 16/16...\n",
      "Cluster 17 (size 11) and cluster 6 (size 7) have dist 1.74\n",
      "and total polarisation is 1\n",
      "Iteration 15/16...\n",
      "Cluster 15 (size 8) and cluster 6 (size 6) have dist 0.58\n",
      "Cluster 17 (size 4) and cluster 6 (size 6) have dist 0.61\n",
      "Cluster 17 (size 4) and cluster 15 (size 8) have dist 0.44\n",
      "and total polarisation is 0\n",
      "Iteration 16/16...\n",
      "Cluster 17 (size 10) and cluster 15 (size 8) have dist 0.44\n",
      "and total polarisation is 1\n",
      "Iteration 15/16...\n",
      "Cluster 15 (size 9) and cluster 6 (size 7) have dist 0.59\n",
      "Cluster 17 (size 2) and cluster 6 (size 7) have dist 0.77\n",
      "Cluster 17 (size 2) and cluster 15 (size 9) have dist 0.55\n",
      "and total polarisation is 0\n",
      "Iteration 16/16...\n",
      "Cluster 17 (size 11) and cluster 6 (size 7) have dist 0.59\n",
      "and total polarisation is 0\n",
      "Iteration 15/16...\n",
      "Cluster 14 (size 5) and cluster 6 (size 7) have dist 1.75\n",
      "Cluster 17 (size 6) and cluster 6 (size 7) have dist 1.38\n",
      "Cluster 17 (size 6) and cluster 14 (size 5) have dist 1.02\n",
      "and total polarisation is 1\n",
      "Iteration 16/16...\n",
      "Cluster 17 (size 11) and cluster 6 (size 7) have dist 1.74\n",
      "and total polarisation is 1\n",
      "Iteration 15/16...\n",
      "Cluster 15 (size 8) and cluster 6 (size 6) have dist 0.58\n",
      "Cluster 17 (size 4) and cluster 6 (size 6) have dist 0.61\n",
      "Cluster 17 (size 4) and cluster 15 (size 8) have dist 0.44\n",
      "and total polarisation is -5\n",
      "Iteration 16/16...\n",
      "Cluster 17 (size 10) and cluster 15 (size 8) have dist 0.44\n",
      "and total polarisation is 0\n",
      "Iteration 0/16...\r"
     ]
    },
    {
     "name": "stderr",
     "output_type": "stream",
     "text": [
      "/home/bambusito/Desktop/backup/Dropbox/masterBCN/TFM/polarisation/utils/clustering.py:120: RuntimeWarning: overflow encountered in long_scalars\n",
      "  p += ni**(1+alpha)*nj*D_ctr[condensed_index(n, i, j)]\n"
     ]
    },
    {
     "name": "stdout",
     "output_type": "stream",
     "text": [
      "Iteration 15/16...\n",
      "Cluster 15 (size 9) and cluster 6 (size 7) have dist 0.59\n",
      "Cluster 17 (size 2) and cluster 6 (size 7) have dist 0.77\n",
      "Cluster 17 (size 2) and cluster 15 (size 9) have dist 0.55\n",
      "and total polarisation is 0\n",
      "Iteration 16/16...\n",
      "Cluster 17 (size 11) and cluster 6 (size 7) have dist 0.59\n",
      "and total polarisation is 0\n",
      "Iteration 15/16...\n",
      "Cluster 14 (size 5) and cluster 6 (size 7) have dist 1.75\n",
      "Cluster 17 (size 6) and cluster 6 (size 7) have dist 1.38\n",
      "Cluster 17 (size 6) and cluster 14 (size 5) have dist 1.02\n",
      "and total polarisation is 1\n",
      "Iteration 16/16...\n",
      "Cluster 17 (size 11) and cluster 6 (size 7) have dist 1.74\n",
      "and total polarisation is 1\n",
      "Iteration 15/16...\n",
      "Cluster 15 (size 8) and cluster 6 (size 6) have dist 0.58\n",
      "Cluster 17 (size 4) and cluster 6 (size 6) have dist 0.61\n",
      "Cluster 17 (size 4) and cluster 15 (size 8) have dist 0.44\n",
      "and total polarisation is 0\n",
      "Iteration 16/16...\n",
      "Cluster 17 (size 12) and cluster 6 (size 6) have dist 0.55\n",
      "and total polarisation is -1\n",
      "Iteration 15/16...\n",
      "Cluster 15 (size 9) and cluster 6 (size 7) have dist 0.59\n",
      "Cluster 17 (size 2) and cluster 6 (size 7) have dist 0.77\n",
      "Cluster 17 (size 2) and cluster 15 (size 9) have dist 0.55\n",
      "and total polarisation is 0\n",
      "Iteration 16/16...\n",
      "Cluster 17 (size 11) and cluster 6 (size 7) have dist 0.59\n",
      "and total polarisation is 0\n",
      "Iteration 15/16...\n",
      "Cluster 14 (size 5) and cluster 6 (size 7) have dist 1.75\n",
      "Cluster 17 (size 6) and cluster 6 (size 7) have dist 1.38\n",
      "Cluster 17 (size 6) and cluster 14 (size 5) have dist 1.02\n",
      "and total polarisation is 1\n",
      "Iteration 16/16...\n",
      "Cluster 17 (size 11) and cluster 6 (size 7) have dist 1.74\n",
      "and total polarisation is 1\n",
      "Iteration 15/16...\n",
      "Cluster 15 (size 8) and cluster 6 (size 6) have dist 0.58\n",
      "Cluster 17 (size 4) and cluster 6 (size 6) have dist 0.61\n",
      "Cluster 17 (size 4) and cluster 15 (size 8) have dist 0.44\n",
      "and total polarisation is -6\n",
      "Iteration 16/16...\n",
      "Cluster 17 (size 12) and cluster 6 (size 6) have dist 0.55\n",
      "and total polarisation is 3\n",
      "Iteration 15/16...\n",
      "Cluster 15 (size 9) and cluster 6 (size 7) have dist 0.59\n",
      "Cluster 17 (size 2) and cluster 6 (size 7) have dist 0.77\n",
      "Cluster 17 (size 2) and cluster 15 (size 9) have dist 0.55\n",
      "and total polarisation is 0\n",
      "Iteration 16/16...\n",
      "Cluster 17 (size 11) and cluster 6 (size 7) have dist 0.59\n",
      "and total polarisation is 0\n",
      "Iteration 15/16...\n",
      "Cluster 14 (size 5) and cluster 6 (size 7) have dist 1.75\n",
      "Cluster 17 (size 6) and cluster 6 (size 7) have dist 1.38\n",
      "Cluster 17 (size 6) and cluster 14 (size 5) have dist 1.02\n",
      "and total polarisation is 1\n",
      "Iteration 16/16...\n",
      "Cluster 17 (size 11) and cluster 6 (size 7) have dist 1.74\n",
      "and total polarisation is 1\n",
      "Iteration 15/16...\n",
      "Cluster 15 (size 8) and cluster 6 (size 6) have dist 0.58\n",
      "Cluster 17 (size 4) and cluster 6 (size 6) have dist 0.61\n",
      "Cluster 17 (size 4) and cluster 15 (size 8) have dist 0.44\n",
      "and total polarisation is -2\n",
      "Iteration 16/16...\n",
      "Cluster 17 (size 12) and cluster 6 (size 6) have dist 0.55\n",
      "and total polarisation is 0\n",
      "Iteration 15/16...\n",
      "Cluster 15 (size 9) and cluster 6 (size 7) have dist 0.59\n",
      "Cluster 17 (size 2) and cluster 6 (size 7) have dist 0.77\n",
      "Cluster 17 (size 2) and cluster 15 (size 9) have dist 0.55\n",
      "and total polarisation is 0\n",
      "Iteration 16/16...\n",
      "Cluster 17 (size 11) and cluster 6 (size 7) have dist 0.59\n",
      "and total polarisation is 0\n",
      "Iteration 15/16...\n",
      "Cluster 14 (size 5) and cluster 6 (size 7) have dist 1.75\n",
      "Cluster 17 (size 6) and cluster 6 (size 7) have dist 1.38\n",
      "Cluster 17 (size 6) and cluster 14 (size 5) have dist 1.02\n",
      "and total polarisation is 1\n",
      "Iteration 16/16...\n",
      "Cluster 17 (size 11) and cluster 6 (size 7) have dist 1.74\n",
      "and total polarisation is 1\n",
      "Iteration 15/16...\n",
      "Cluster 15 (size 8) and cluster 6 (size 6) have dist 0.58\n",
      "Cluster 17 (size 4) and cluster 6 (size 6) have dist 0.61\n",
      "Cluster 17 (size 4) and cluster 15 (size 8) have dist 0.44\n",
      "and total polarisation is 0\n",
      "Iteration 16/16...\n",
      "Cluster 17 (size 12) and cluster 6 (size 6) have dist 0.55\n",
      "and total polarisation is 1\n",
      "Iteration 15/16...\n",
      "Cluster 15 (size 9) and cluster 6 (size 7) have dist 0.59\n",
      "Cluster 17 (size 2) and cluster 6 (size 7) have dist 0.77\n",
      "Cluster 17 (size 2) and cluster 15 (size 9) have dist 0.55\n",
      "and total polarisation is 0\n",
      "Iteration 16/16...\n",
      "Cluster 17 (size 11) and cluster 6 (size 7) have dist 0.59\n",
      "and total polarisation is 0\n",
      "Iteration 15/16...\n",
      "Cluster 14 (size 5) and cluster 6 (size 7) have dist 1.75\n",
      "Cluster 17 (size 6) and cluster 6 (size 7) have dist 1.38\n",
      "Cluster 17 (size 6) and cluster 14 (size 5) have dist 1.02\n",
      "and total polarisation is 1\n",
      "Iteration 16/16...\n",
      "Cluster 17 (size 11) and cluster 6 (size 7) have dist 1.74\n",
      "and total polarisation is 1\n",
      "Iteration 15/16...\n",
      "Cluster 15 (size 8) and cluster 6 (size 6) have dist 0.58\n",
      "Cluster 17 (size 4) and cluster 6 (size 6) have dist 0.61\n",
      "Cluster 17 (size 4) and cluster 15 (size 8) have dist 0.44\n",
      "and total polarisation is -2\n",
      "Iteration 16/16...\n",
      "Cluster 17 (size 12) and cluster 6 (size 6) have dist 0.55\n",
      "and total polarisation is -2\n",
      "Iteration 15/16...\n",
      "Cluster 15 (size 9) and cluster 6 (size 7) have dist 0.59\n",
      "Cluster 17 (size 2) and cluster 6 (size 7) have dist 0.77\n",
      "Cluster 17 (size 2) and cluster 15 (size 9) have dist 0.55\n",
      "and total polarisation is 0\n",
      "Iteration 16/16...\n",
      "Cluster 17 (size 11) and cluster 6 (size 7) have dist 0.59\n",
      "and total polarisation is 0\n",
      "Iteration 15/16...\n",
      "Cluster 14 (size 5) and cluster 6 (size 7) have dist 1.75\n",
      "Cluster 17 (size 6) and cluster 6 (size 7) have dist 1.38\n",
      "Cluster 17 (size 6) and cluster 14 (size 5) have dist 1.02\n",
      "and total polarisation is 1\n",
      "Iteration 16/16...\n",
      "Cluster 17 (size 11) and cluster 6 (size 7) have dist 1.74\n",
      "and total polarisation is 1\n",
      "Iteration 15/16...\n",
      "Cluster 15 (size 4) and cluster 14 (size 10) have dist 0.31\n",
      "Cluster 17 (size 4) and cluster 14 (size 10) have dist 0.44\n",
      "Cluster 17 (size 4) and cluster 15 (size 4) have dist 0.48\n",
      "and total polarisation is 22\n",
      "Iteration 16/16...\n",
      "Cluster 17 (size 8) and cluster 14 (size 10) have dist 0.3\n",
      "and total polarisation is -2\n",
      "Iteration 15/16...\n",
      "Cluster 15 (size 9) and cluster 6 (size 7) have dist 0.59\n",
      "Cluster 17 (size 2) and cluster 6 (size 7) have dist 0.77\n",
      "Cluster 17 (size 2) and cluster 15 (size 9) have dist 0.55\n",
      "and total polarisation is 0\n",
      "Iteration 16/16...\n",
      "Cluster 17 (size 11) and cluster 6 (size 7) have dist 0.59\n",
      "and total polarisation is 0\n",
      "Iteration 15/16...\n",
      "Cluster 14 (size 5) and cluster 6 (size 7) have dist 1.75\n",
      "Cluster 17 (size 6) and cluster 6 (size 7) have dist 1.38\n",
      "Cluster 17 (size 6) and cluster 14 (size 5) have dist 1.02\n",
      "and total polarisation is 1\n",
      "Iteration 16/16...\n",
      "Cluster 17 (size 11) and cluster 6 (size 7) have dist 1.74\n",
      "and total polarisation is 1\n",
      "Iteration 15/16...\n",
      "Cluster 15 (size 4) and cluster 14 (size 10) have dist 0.31\n",
      "Cluster 17 (size 4) and cluster 14 (size 10) have dist 0.44\n",
      "Cluster 17 (size 4) and cluster 15 (size 4) have dist 0.48\n",
      "and total polarisation is -2\n",
      "Iteration 16/16...\n",
      "Cluster 17 (size 14) and cluster 15 (size 4) have dist 0.31\n",
      "and total polarisation is 0\n",
      "Iteration 6/16...\r"
     ]
    },
    {
     "name": "stderr",
     "output_type": "stream",
     "text": [
      "/home/bambusito/Desktop/backup/Dropbox/masterBCN/TFM/polarisation/utils/clustering.py:284: RuntimeWarning: overflow encountered in long_scalars\n",
      "  d_pol_xy_i = d_xy_i*(size_i*(size_x+size_y)**(1+alpha)+\n"
     ]
    },
    {
     "name": "stdout",
     "output_type": "stream",
     "text": [
      "Iteration 15/16...\n",
      "Cluster 15 (size 9) and cluster 6 (size 7) have dist 0.59\n",
      "Cluster 17 (size 2) and cluster 6 (size 7) have dist 0.77\n",
      "Cluster 17 (size 2) and cluster 15 (size 9) have dist 0.55\n",
      "and total polarisation is 0\n",
      "Iteration 16/16...\n",
      "Cluster 17 (size 11) and cluster 6 (size 7) have dist 0.59\n",
      "and total polarisation is 0\n",
      "Iteration 15/16...\n",
      "Cluster 14 (size 5) and cluster 6 (size 7) have dist 1.75\n",
      "Cluster 17 (size 6) and cluster 6 (size 7) have dist 1.38\n",
      "Cluster 17 (size 6) and cluster 14 (size 5) have dist 1.02\n",
      "and total polarisation is 1\n",
      "Iteration 16/16...\n",
      "Cluster 17 (size 11) and cluster 6 (size 7) have dist 1.74\n",
      "and total polarisation is 1\n",
      "Iteration 15/16...\n",
      "Cluster 15 (size 4) and cluster 14 (size 10) have dist 0.31\n",
      "Cluster 17 (size 4) and cluster 14 (size 10) have dist 0.44\n",
      "Cluster 17 (size 4) and cluster 15 (size 4) have dist 0.48\n",
      "and total polarisation is 0\n",
      "Iteration 16/16...\n",
      "Cluster 17 (size 4) and cluster 15 (size 14) have dist 0.43\n",
      "and total polarisation is -2\n",
      "Iteration 15/16...\n",
      "Cluster 15 (size 9) and cluster 6 (size 7) have dist 0.59\n",
      "Cluster 17 (size 2) and cluster 6 (size 7) have dist 0.77\n",
      "Cluster 17 (size 2) and cluster 15 (size 9) have dist 0.55\n",
      "and total polarisation is 0\n",
      "Iteration 16/16...\n",
      "Cluster 17 (size 11) and cluster 6 (size 7) have dist 0.59\n",
      "and total polarisation is 0\n",
      "Iteration 15/16...\n",
      "Cluster 14 (size 5) and cluster 6 (size 7) have dist 1.75\n",
      "Cluster 17 (size 6) and cluster 6 (size 7) have dist 1.38\n",
      "Cluster 17 (size 6) and cluster 14 (size 5) have dist 1.02\n",
      "and total polarisation is 1\n",
      "Iteration 16/16...\n",
      "Cluster 17 (size 11) and cluster 6 (size 7) have dist 1.74\n",
      "and total polarisation is 1\n",
      "Iteration 15/16...\n",
      "Cluster 15 (size 4) and cluster 14 (size 10) have dist 0.31\n",
      "Cluster 17 (size 4) and cluster 14 (size 10) have dist 0.44\n",
      "Cluster 17 (size 4) and cluster 15 (size 4) have dist 0.48\n",
      "and total polarisation is 0\n",
      "Iteration 16/16...\n",
      "Cluster 17 (size 14) and cluster 15 (size 4) have dist 0.31\n",
      "and total polarisation is -1\n",
      "Iteration 15/16...\n",
      "Cluster 15 (size 9) and cluster 6 (size 7) have dist 0.59\n",
      "Cluster 17 (size 2) and cluster 6 (size 7) have dist 0.77\n",
      "Cluster 17 (size 2) and cluster 15 (size 9) have dist 0.55\n",
      "and total polarisation is 0\n",
      "Iteration 16/16...\n",
      "Cluster 17 (size 11) and cluster 6 (size 7) have dist 0.59\n",
      "and total polarisation is 0\n",
      "Iteration 15/16...\n",
      "Cluster 14 (size 5) and cluster 6 (size 7) have dist 1.75\n",
      "Cluster 17 (size 6) and cluster 6 (size 7) have dist 1.38\n",
      "Cluster 17 (size 6) and cluster 14 (size 5) have dist 1.02\n",
      "and total polarisation is 1\n",
      "Iteration 16/16...\n",
      "Cluster 17 (size 11) and cluster 6 (size 7) have dist 1.74\n",
      "and total polarisation is 1\n",
      "Iteration 15/16...\n",
      "Cluster 14 (size 8) and cluster 2 (size 2) have dist 0.51\n",
      "Cluster 17 (size 8) and cluster 2 (size 2) have dist 0.52\n",
      "Cluster 17 (size 8) and cluster 14 (size 8) have dist 0.31\n",
      "and total polarisation is 0\n",
      "Iteration 16/16...\n",
      "Cluster 17 (size 16) and cluster 2 (size 2) have dist 0.49\n",
      "and total polarisation is 0\n",
      "Iteration 15/16...\n",
      "Cluster 15 (size 9) and cluster 6 (size 7) have dist 0.59\n",
      "Cluster 17 (size 2) and cluster 6 (size 7) have dist 0.77\n",
      "Cluster 17 (size 2) and cluster 15 (size 9) have dist 0.55\n",
      "and total polarisation is 0\n",
      "Iteration 16/16...\n",
      "Cluster 17 (size 11) and cluster 6 (size 7) have dist 0.59\n",
      "and total polarisation is 0\n",
      "Iteration 15/16...\n",
      "Cluster 14 (size 5) and cluster 6 (size 7) have dist 1.75\n",
      "Cluster 17 (size 6) and cluster 6 (size 7) have dist 1.38\n",
      "Cluster 17 (size 6) and cluster 14 (size 5) have dist 1.02\n",
      "and total polarisation is 1\n",
      "Iteration 16/16...\n",
      "Cluster 17 (size 11) and cluster 6 (size 7) have dist 1.74\n",
      "and total polarisation is 1\n",
      "Iteration 15/16...\n",
      "Cluster 15 (size 6) and cluster 14 (size 6) have dist 0.2\n",
      "Cluster 17 (size 6) and cluster 14 (size 6) have dist 0.37\n",
      "Cluster 17 (size 6) and cluster 15 (size 6) have dist 0.3\n",
      "and total polarisation is -1\n",
      "Iteration 16/16...\n",
      "Cluster 17 (size 12) and cluster 15 (size 6) have dist 0.17\n",
      "and total polarisation is -1\n",
      "Iteration 15/16...\n",
      "Cluster 15 (size 9) and cluster 6 (size 7) have dist 0.59\n",
      "Cluster 17 (size 2) and cluster 6 (size 7) have dist 0.77\n",
      "Cluster 17 (size 2) and cluster 15 (size 9) have dist 0.55\n",
      "and total polarisation is 0\n",
      "Iteration 16/16...\n",
      "Cluster 17 (size 11) and cluster 6 (size 7) have dist 0.59\n",
      "and total polarisation is 0\n",
      "Iteration 15/16...\n",
      "Cluster 14 (size 5) and cluster 6 (size 7) have dist 1.75\n",
      "Cluster 17 (size 6) and cluster 6 (size 7) have dist 1.38\n",
      "Cluster 17 (size 6) and cluster 14 (size 5) have dist 1.02\n",
      "and total polarisation is 1\n",
      "Iteration 16/16...\n",
      "Cluster 17 (size 11) and cluster 6 (size 7) have dist 1.74\n",
      "and total polarisation is 1\n",
      "Iteration 15/16...\n",
      "Cluster 15 (size 12) and cluster 14 (size 4) have dist 0.38\n",
      "Cluster 17 (size 2) and cluster 14 (size 4) have dist 0.55\n",
      "Cluster 17 (size 2) and cluster 15 (size 12) have dist 0.63\n",
      "and total polarisation is 0\n",
      "Iteration 16/16...\n",
      "Cluster 17 (size 2) and cluster 15 (size 16) have dist 0.59\n",
      "and total polarisation is 0\n",
      "Iteration 15/16...\n",
      "Cluster 15 (size 9) and cluster 6 (size 7) have dist 0.59\n",
      "Cluster 17 (size 2) and cluster 6 (size 7) have dist 0.77\n",
      "Cluster 17 (size 2) and cluster 15 (size 9) have dist 0.55\n",
      "and total polarisation is 0\n",
      "Iteration 16/16...\n",
      "Cluster 17 (size 11) and cluster 6 (size 7) have dist 0.59\n",
      "and total polarisation is 0\n",
      "Iteration 15/16...\n",
      "Cluster 14 (size 5) and cluster 6 (size 7) have dist 1.75\n",
      "Cluster 17 (size 6) and cluster 6 (size 7) have dist 1.38\n",
      "Cluster 17 (size 6) and cluster 14 (size 5) have dist 1.02\n",
      "and total polarisation is 1\n",
      "Iteration 16/16...\n",
      "Cluster 17 (size 11) and cluster 6 (size 7) have dist 1.74\n",
      "and total polarisation is 1\n",
      "Iteration 15/16...\n",
      "Cluster 15 (size 12) and cluster 14 (size 4) have dist 0.38\n",
      "Cluster 17 (size 2) and cluster 14 (size 4) have dist 0.55\n",
      "Cluster 17 (size 2) and cluster 15 (size 12) have dist 0.63\n",
      "and total polarisation is 0\n",
      "Iteration 16/16...\n",
      "Cluster 17 (size 2) and cluster 15 (size 16) have dist 0.59\n",
      "and total polarisation is 0\n",
      "Iteration 15/16...\n",
      "Cluster 15 (size 9) and cluster 6 (size 7) have dist 0.59\n",
      "Cluster 17 (size 2) and cluster 6 (size 7) have dist 0.77\n",
      "Cluster 17 (size 2) and cluster 15 (size 9) have dist 0.55\n",
      "and total polarisation is 0\n",
      "Iteration 16/16...\n",
      "Cluster 17 (size 11) and cluster 6 (size 7) have dist 0.59\n",
      "and total polarisation is 0\n",
      "Iteration 15/16...\n",
      "Cluster 14 (size 5) and cluster 6 (size 7) have dist 1.75\n",
      "Cluster 17 (size 6) and cluster 6 (size 7) have dist 1.38\n",
      "Cluster 17 (size 6) and cluster 14 (size 5) have dist 1.02\n",
      "and total polarisation is 1\n",
      "Iteration 16/16...\n",
      "Cluster 17 (size 11) and cluster 6 (size 7) have dist 1.74\n",
      "and total polarisation is 1\n",
      "Iteration 15/16...\n",
      "Cluster 15 (size 12) and cluster 14 (size 4) have dist 0.38\n",
      "Cluster 17 (size 2) and cluster 14 (size 4) have dist 0.55\n",
      "Cluster 17 (size 2) and cluster 15 (size 12) have dist 0.63\n",
      "and total polarisation is 0\n",
      "Iteration 16/16...\n",
      "Cluster 17 (size 2) and cluster 15 (size 16) have dist 0.59\n",
      "and total polarisation is 0\n",
      "Iteration 15/16...\n",
      "Cluster 15 (size 9) and cluster 6 (size 7) have dist 0.59\n",
      "Cluster 17 (size 2) and cluster 6 (size 7) have dist 0.77\n",
      "Cluster 17 (size 2) and cluster 15 (size 9) have dist 0.55\n",
      "and total polarisation is 0\n",
      "Iteration 16/16...\n",
      "Cluster 17 (size 11) and cluster 6 (size 7) have dist 0.59\n",
      "and total polarisation is 0\n",
      "Iteration 15/16...\n",
      "Cluster 14 (size 5) and cluster 6 (size 7) have dist 1.75\n",
      "Cluster 17 (size 6) and cluster 6 (size 7) have dist 1.38\n",
      "Cluster 17 (size 6) and cluster 14 (size 5) have dist 1.02\n",
      "and total polarisation is 1\n",
      "Iteration 16/16...\n",
      "Cluster 17 (size 11) and cluster 6 (size 7) have dist 1.74\n",
      "and total polarisation is 1\n",
      "Iteration 15/16...\n",
      "Cluster 15 (size 12) and cluster 14 (size 4) have dist 0.38\n",
      "Cluster 17 (size 2) and cluster 14 (size 4) have dist 0.55\n",
      "Cluster 17 (size 2) and cluster 15 (size 12) have dist 0.63\n",
      "and total polarisation is 0\n",
      "Iteration 16/16...\n",
      "Cluster 17 (size 2) and cluster 15 (size 16) have dist 0.59\n",
      "and total polarisation is 0\n",
      "Iteration 15/16...\n",
      "Cluster 15 (size 9) and cluster 6 (size 7) have dist 0.59\n",
      "Cluster 17 (size 2) and cluster 6 (size 7) have dist 0.77\n",
      "Cluster 17 (size 2) and cluster 15 (size 9) have dist 0.55\n",
      "and total polarisation is 0\n",
      "Iteration 16/16...\n",
      "Cluster 17 (size 11) and cluster 6 (size 7) have dist 0.59\n",
      "and total polarisation is 0\n",
      "Iteration 15/16...\n",
      "Cluster 14 (size 5) and cluster 6 (size 7) have dist 1.75\n",
      "Cluster 17 (size 6) and cluster 6 (size 7) have dist 1.38\n",
      "Cluster 17 (size 6) and cluster 14 (size 5) have dist 1.02\n",
      "and total polarisation is 1\n",
      "Iteration 16/16...\n",
      "Cluster 17 (size 11) and cluster 6 (size 7) have dist 1.74\n",
      "and total polarisation is 1\n",
      "Iteration 15/16...\n",
      "Cluster 15 (size 14) and cluster 13 (size 2) have dist 0.42\n",
      "Cluster 17 (size 2) and cluster 13 (size 2) have dist 0.59\n",
      "Cluster 17 (size 2) and cluster 15 (size 14) have dist 0.61\n",
      "and total polarisation is 0\n",
      "Iteration 16/16...\n",
      "Cluster 17 (size 4) and cluster 15 (size 14) have dist 0.43\n",
      "and total polarisation is 0\n"
     ]
    },
    {
     "name": "stdout",
     "output_type": "stream",
     "text": [
      "Iteration 15/16...\n",
      "Cluster 15 (size 9) and cluster 6 (size 7) have dist 0.59\n",
      "Cluster 17 (size 2) and cluster 6 (size 7) have dist 0.77\n",
      "Cluster 17 (size 2) and cluster 15 (size 9) have dist 0.55\n",
      "and total polarisation is 0\n",
      "Iteration 16/16...\n",
      "Cluster 17 (size 11) and cluster 6 (size 7) have dist 0.59\n",
      "and total polarisation is 0\n",
      "Iteration 15/16...\n",
      "Cluster 14 (size 5) and cluster 6 (size 7) have dist 1.75\n",
      "Cluster 17 (size 6) and cluster 6 (size 7) have dist 1.38\n",
      "Cluster 17 (size 6) and cluster 14 (size 5) have dist 1.02\n",
      "and total polarisation is 1\n",
      "Iteration 16/16...\n",
      "Cluster 17 (size 11) and cluster 6 (size 7) have dist 1.74\n",
      "and total polarisation is 1\n",
      "Iteration 15/16...\n",
      "Cluster 15 (size 12) and cluster 14 (size 4) have dist 0.38\n",
      "Cluster 17 (size 2) and cluster 14 (size 4) have dist 0.55\n",
      "Cluster 17 (size 2) and cluster 15 (size 12) have dist 0.63\n",
      "and total polarisation is 0\n",
      "Iteration 16/16...\n",
      "Cluster 17 (size 2) and cluster 15 (size 16) have dist 0.59\n",
      "and total polarisation is 0\n",
      "Iteration 15/16...\n",
      "Cluster 15 (size 9) and cluster 6 (size 7) have dist 0.59\n",
      "Cluster 17 (size 2) and cluster 6 (size 7) have dist 0.77\n",
      "Cluster 17 (size 2) and cluster 15 (size 9) have dist 0.55\n",
      "and total polarisation is 0\n",
      "Iteration 16/16...\n",
      "Cluster 17 (size 11) and cluster 6 (size 7) have dist 0.59\n",
      "and total polarisation is 0\n",
      "Iteration 15/16...\n",
      "Cluster 14 (size 5) and cluster 6 (size 7) have dist 1.75\n",
      "Cluster 17 (size 6) and cluster 6 (size 7) have dist 1.38\n",
      "Cluster 17 (size 6) and cluster 14 (size 5) have dist 1.02\n",
      "and total polarisation is 1\n",
      "Iteration 16/16...\n",
      "Cluster 17 (size 11) and cluster 6 (size 7) have dist 1.74\n",
      "and total polarisation is 1\n",
      "Iteration 15/16...\n",
      "Cluster 15 (size 8) and cluster 6 (size 6) have dist 0.58\n",
      "Cluster 17 (size 4) and cluster 6 (size 6) have dist 0.61\n",
      "Cluster 17 (size 4) and cluster 15 (size 8) have dist 0.44\n",
      "and total polarisation is 2\n",
      "Iteration 16/16...\n",
      "Cluster 17 (size 12) and cluster 6 (size 6) have dist 0.55\n",
      "and total polarisation is 2\n",
      "Iteration 15/16...\n",
      "Cluster 15 (size 9) and cluster 6 (size 7) have dist 0.59\n",
      "Cluster 17 (size 2) and cluster 6 (size 7) have dist 0.77\n",
      "Cluster 17 (size 2) and cluster 15 (size 9) have dist 0.55\n",
      "and total polarisation is 0\n",
      "Iteration 16/16...\n",
      "Cluster 17 (size 11) and cluster 6 (size 7) have dist 0.59\n",
      "and total polarisation is 0\n",
      "Iteration 15/16...\n",
      "Cluster 14 (size 5) and cluster 6 (size 7) have dist 1.75\n",
      "Cluster 17 (size 6) and cluster 6 (size 7) have dist 1.38\n",
      "Cluster 17 (size 6) and cluster 14 (size 5) have dist 1.02\n",
      "and total polarisation is 1\n",
      "Iteration 16/16...\n",
      "Cluster 17 (size 11) and cluster 6 (size 7) have dist 1.74\n",
      "and total polarisation is 1\n",
      "Iteration 15/16...\n",
      "Cluster 15 (size 12) and cluster 14 (size 4) have dist 0.38\n",
      "Cluster 17 (size 2) and cluster 14 (size 4) have dist 0.55\n",
      "Cluster 17 (size 2) and cluster 15 (size 12) have dist 0.63\n",
      "and total polarisation is 0\n",
      "Iteration 16/16...\n",
      "Cluster 17 (size 2) and cluster 15 (size 16) have dist 0.59\n",
      "and total polarisation is 0\n",
      "Iteration 15/16...\n",
      "Cluster 15 (size 9) and cluster 6 (size 7) have dist 0.59\n",
      "Cluster 17 (size 2) and cluster 6 (size 7) have dist 0.77\n",
      "Cluster 17 (size 2) and cluster 15 (size 9) have dist 0.55\n",
      "and total polarisation is 0\n",
      "Iteration 16/16...\n",
      "Cluster 17 (size 11) and cluster 6 (size 7) have dist 0.59\n",
      "and total polarisation is 0\n",
      "Iteration 15/16...\n",
      "Cluster 14 (size 5) and cluster 6 (size 7) have dist 1.75\n",
      "Cluster 17 (size 6) and cluster 6 (size 7) have dist 1.38\n",
      "Cluster 17 (size 6) and cluster 14 (size 5) have dist 1.02\n",
      "and total polarisation is 1\n",
      "Iteration 16/16...\n",
      "Cluster 17 (size 11) and cluster 6 (size 7) have dist 1.74\n",
      "and total polarisation is 1\n",
      "Iteration 15/16...\n",
      "Cluster 15 (size 8) and cluster 6 (size 6) have dist 0.58\n",
      "Cluster 17 (size 4) and cluster 6 (size 6) have dist 0.61\n",
      "Cluster 17 (size 4) and cluster 15 (size 8) have dist 0.44\n",
      "and total polarisation is -1\n",
      "Iteration 16/16...\n",
      "Cluster 17 (size 4) and cluster 15 (size 14) have dist 0.43\n",
      "and total polarisation is 0\n",
      "Iteration 15/16...\n",
      "Cluster 15 (size 9) and cluster 6 (size 7) have dist 0.59\n",
      "Cluster 17 (size 2) and cluster 6 (size 7) have dist 0.77\n",
      "Cluster 17 (size 2) and cluster 15 (size 9) have dist 0.55\n",
      "and total polarisation is 0\n",
      "Iteration 16/16...\n",
      "Cluster 17 (size 11) and cluster 6 (size 7) have dist 0.59\n",
      "and total polarisation is 0\n",
      "Iteration 15/16...\n",
      "Cluster 14 (size 5) and cluster 6 (size 7) have dist 1.75\n",
      "Cluster 17 (size 6) and cluster 6 (size 7) have dist 1.38\n",
      "Cluster 17 (size 6) and cluster 14 (size 5) have dist 1.02\n",
      "and total polarisation is 1\n",
      "Iteration 16/16...\n",
      "Cluster 17 (size 11) and cluster 6 (size 7) have dist 1.74\n",
      "and total polarisation is 1\n"
     ]
    }
   ],
   "source": [
    "from scipy.cluster.hierarchy import dendrogram\n",
    "from utils.clustering import agglomerative_clustering\n",
    "\n",
    "dist_p2c = []\n",
    "dist_p2w = []\n",
    "dist_p2p0 = []\n",
    "#alphas = np.arange(0,50,1)\n",
    "alphas = np.arange(0,40,1)\n",
    "\n",
    "z_pol0, _ = agglomerative_clustering(d, method='polarisation'\n",
    "                                          , alpha=0, K=None)\n",
    "tp0_str = z_to_tree_str_newick(z_pol0)\n",
    "\n",
    "for alpha in alphas:\n",
    "    z_pol, _ = agglomerative_clustering(d, method='polarisation'\n",
    "                                          , alpha=alpha, K=None)\n",
    "    z_ctr, _ = agglomerative_clustering(d, method='centroid'\n",
    "                                        ,alpha=1, K=None)#this alpha is for computing pol, not pol dist\n",
    "    z_wrd, _ = agglomerative_clustering(d, method='ward')\n",
    "    \n",
    "    tp_str = z_to_tree_str_newick(z_pol)\n",
    "    tc_str = z_to_tree_str_newick(z_ctr)\n",
    "    tw_str = z_to_tree_str_newick(z_wrd)\n",
    "    \n",
    "    dist_p2c.append(RF_dist(tp_str, tc_str))\n",
    "    dist_p2w.append(RF_dist(tp_str, tw_str))\n",
    "    dist_p2p0.append(RF_dist(tp0_str, tp_str))"
   ]
  },
  {
   "cell_type": "code",
   "execution_count": 37,
   "metadata": {},
   "outputs": [],
   "source": [
    "#dist_p2p0, dist_p2c, dist_p2w"
   ]
  },
  {
   "cell_type": "markdown",
   "metadata": {},
   "source": [
    "There are no topological changes in the dendogram produced with pol dist for the different alpha allowed: the distances between branches do change, but the structure is the same. \n",
    "\n",
    "Normalising $d^c$ does nothing coz its a proportionality constant in pol dist: the only thing that can make the allowed range of alpha relevant for the pol dist is a greater network size."
   ]
  },
  {
   "cell_type": "code",
   "execution_count": 36,
   "metadata": {},
   "outputs": [
    {
     "data": {
      "image/png": "[encoded data removed]",
      "text/plain": [
       "<Figure size 432x288 with 1 Axes>"
      ]
     },
     "metadata": {
      "needs_background": "light"
     },
     "output_type": "display_data"
    }
   ],
   "source": [
    "from matplotlib import pyplot as plt\n",
    "\"\"\"plt.rcParams.update({\n",
    "    \"text.usetex\": False,\n",
    "    \"font.family\": \"sans-serif\",\n",
    "    \"font.sans-serif\": [\"Helvetica\"]})\"\"\"\n",
    "\n",
    "plt.plot(alphas, dist_p2c, \"-\", label=\"p2c\")\n",
    "plt.plot(alphas, dist_p2w, \"--\", label=\"p2w\")\n",
    "plt.plot(alphas, dist_p2p0, \".-\", label=\"p2p0\")\n",
    "\n",
    "plt.title(\"Topological (RF) tree distance vs alpha\")\n",
    "plt.xlabel(\"alpha\")\n",
    "plt.ylabel(\"D_{RF}\")\n",
    "plt.legend()\n",
    "plt.savefig(\"../plots/rfdist_vs_alpha.png\")\n",
    "plt.show()"
   ]
  },
  {
   "cell_type": "code",
   "execution_count": null,
   "metadata": {},
   "outputs": [],
   "source": []
  }
 ],
 "metadata": {
  "kernelspec": {
   "display_name": "Python 3",
   "language": "python",
   "name": "python3"
  },
  "language_info": {
   "codemirror_mode": {
    "name": "ipython",
    "version": 3
   },
   "file_extension": ".py",
   "mimetype": "text/x-python",
   "name": "python",
   "nbconvert_exporter": "python",
   "pygments_lexer": "ipython3",
   "version": "3.8.3"
  }
 },
 "nbformat": 4,
 "nbformat_minor": 4
}

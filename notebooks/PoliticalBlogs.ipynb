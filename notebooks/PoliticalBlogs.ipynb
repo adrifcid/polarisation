{
 "cells": [
  {
   "cell_type": "code",
   "execution_count": 2,
   "metadata": {},
   "outputs": [],
   "source": [
    "#!jt -r"
   ]
  },
  {
   "cell_type": "markdown",
   "metadata": {},
   "source": [
    "# Political blogs network\n",
    "### An undirected, unweighted and unipartite social network\n",
    "#### Adrián Fernández Cid\n",
    "Contains hyperlinks (edges) between political blogs (the nodes, labelled either liberal of conservative) in the United States of America. The time of the graph is 2004 (i.e. before Trump), during that year's presidential campaign (Bush vs Kerry, Bush got reelected by a thin margin), one year after the invasion of Iraq (in 2003).\n",
    "\n",
    "Original source:\n",
    "\n",
    "Adamic, Lada. (2005). The Political Blogosphere and the 2004 U.S. Election: Divided They Blog. Proceedings of the 3rd International Workshop on Link Discovery. 10.1145/1134271.1134277. \n",
    "\n",
    "The graph used here is the largest connected component (=the core) of the undirected projection of the orignal (the original graph is, to the best of my knowledge, not available in any of the repositories I checked), available as an R dataset containing blog names and political leaning (0 for liberal, 1 for conservative):\n",
    "\n",
    "https://search.r-project.org/CRAN/refmans/gsbm/html/blogosphere.html\n"
   ]
  },
  {
   "cell_type": "code",
   "execution_count": 2,
   "metadata": {},
   "outputs": [],
   "source": [
    "#!pip install networkx"
   ]
  },
  {
   "cell_type": "code",
   "execution_count": 1,
   "metadata": {},
   "outputs": [],
   "source": [
    "#necessary imports\n",
    "import networkx as nx\n",
    "import numpy as np\n",
    "import matplotlib.pyplot as plt\n",
    "import statistics\n",
    "import scipy.io as sc\n",
    "#export for visualisation\n",
    "from pathlib import Path\n",
    "import json\n",
    "# fitting and binning\n",
    "from scipy.optimize import curve_fit\n",
    "from scipy.stats import binned_statistic\n",
    "#random attacks\n",
    "import random\n",
    "# communities\n",
    "import operator # for \n",
    "import community #for Louvain Method\n",
    "#simulation\n",
    "import string\n",
    "#from simulation import Simulation\n",
    "\n",
    "%matplotlib inline"
   ]
  },
  {
   "cell_type": "code",
   "execution_count": 2,
   "metadata": {},
   "outputs": [
    {
     "data": {
      "text/plain": [
       "'2.5.1'"
      ]
     },
     "execution_count": 2,
     "metadata": {},
     "output_type": "execute_result"
    }
   ],
   "source": [
    "nx.__version__"
   ]
  },
  {
   "cell_type": "markdown",
   "metadata": {},
   "source": [
    "## Load & visualise graph"
   ]
  },
  {
   "cell_type": "markdown",
   "metadata": {},
   "source": [
    "Get graph from adjacency matrix:"
   ]
  },
  {
   "cell_type": "code",
   "execution_count": 3,
   "metadata": {},
   "outputs": [
    {
     "data": {
      "text/plain": [
       "numpy.matrix"
      ]
     },
     "execution_count": 3,
     "metadata": {},
     "output_type": "execute_result"
    }
   ],
   "source": [
    "Acsc = sc.mmread(\"../data/polblogsR/Acsc.mtx\")\n",
    "A = Acsc.todense()\n",
    "type(A)"
   ]
  },
  {
   "cell_type": "code",
   "execution_count": 4,
   "metadata": {},
   "outputs": [
    {
     "name": "stdout",
     "output_type": "stream",
     "text": [
      "Name: \n",
      "Type: Graph\n",
      "Number of nodes: 1222\n",
      "Number of edges: 16714\n",
      "Average degree:  27.3552\n"
     ]
    }
   ],
   "source": [
    "G = nx.convert_matrix.from_numpy_matrix(A\n",
    "                                         #, create_using=nx.DiGraph\n",
    "                                        )\n",
    "print(nx.info(G))"
   ]
  },
  {
   "cell_type": "code",
   "execution_count": 5,
   "metadata": {},
   "outputs": [
    {
     "data": {
      "text/plain": [
       "[0, 1, 2, 3, 4]"
      ]
     },
     "execution_count": 5,
     "metadata": {},
     "output_type": "execute_result"
    }
   ],
   "source": [
    "list(G.nodes)[:5]"
   ]
  },
  {
   "cell_type": "markdown",
   "metadata": {},
   "source": [
    "Get blog names and political leaning (0 for liberals, 1 for conservatives):"
   ]
  },
  {
   "cell_type": "code",
   "execution_count": 6,
   "metadata": {},
   "outputs": [
    {
     "name": "stdout",
     "output_type": "stream",
     "text": [
      "[['', 'x'], ['1', '0'], ['2', '0'], ['3', '0'], ['4', '0'], ['5', '0'], ['6', '0'], ['7', '0'], ['8', '0'], ['9', '0']]\n",
      "[['', 'x'], ['1', '100monkeystyping.com'], ['2', '12thharmonic.com/wordpress'], ['3', '750volts.blogspot.com'], ['4', '95theses.blogspot.com'], ['5', 'abbadabbaduo.blogspot.com'], ['6', 'aboutpolitics.blogspot.com'], ['7', 'achingandspinning.blogspot.com'], ['8', 'ackackack.com'], ['9', 'adamtalib.blogspot.com']]\n"
     ]
    }
   ],
   "source": [
    "import csv\n",
    "\n",
    "with open('../data/polblogsR/opinion.csv', newline='') as f:\n",
    "    reader = csv.reader(f)\n",
    "    raw_opinion = list(reader) #0 for liberal, 1 for conservative\n",
    "    \n",
    "with open('../data/polblogsR/names.csv', newline='') as f:\n",
    "    reader = csv.reader(f)\n",
    "    raw_names = list(reader)\n",
    "    \n",
    "print(raw_opinion[:10])\n",
    "print(raw_names[:10])"
   ]
  },
  {
   "cell_type": "code",
   "execution_count": 7,
   "metadata": {},
   "outputs": [
    {
     "data": {
      "text/plain": [
       "1222"
      ]
     },
     "execution_count": 7,
     "metadata": {},
     "output_type": "execute_result"
    }
   ],
   "source": [
    "n = G.number_of_nodes()\n",
    "n"
   ]
  },
  {
   "cell_type": "code",
   "execution_count": 8,
   "metadata": {},
   "outputs": [
    {
     "data": {
      "text/plain": [
       "('zeph1z.tripod.com/blog', '1')"
      ]
     },
     "execution_count": 8,
     "metadata": {},
     "output_type": "execute_result"
    }
   ],
   "source": [
    "names = [i[1] for i in raw_names[1:]] # skip header\n",
    "opinion = [i[1] for i in raw_opinion[1:]] # skip header\n",
    "index2name = {i:name for (i,name) in enumerate(names)}\n",
    "name2opinion = {names[i]:op for (i,op) in enumerate(opinion)}\n",
    "index2name[1221], name2opinion[\"zeph1z.tripod.com/blog\"]"
   ]
  },
  {
   "cell_type": "code",
   "execution_count": 9,
   "metadata": {},
   "outputs": [
    {
     "data": {
      "text/plain": [
       "['100monkeystyping.com',\n",
       " '12thharmonic.com/wordpress',\n",
       " '750volts.blogspot.com',\n",
       " '95theses.blogspot.com',\n",
       " 'abbadabbaduo.blogspot.com']"
      ]
     },
     "execution_count": 9,
     "metadata": {},
     "output_type": "execute_result"
    }
   ],
   "source": [
    "nx.relabel.relabel_nodes(G, index2name, copy=False)\n",
    "list(G.nodes())[:5]"
   ]
  },
  {
   "cell_type": "markdown",
   "metadata": {},
   "source": [
    "Get subgraphs of liberals (L) and conservatives (C):"
   ]
  },
  {
   "cell_type": "code",
   "execution_count": 10,
   "metadata": {},
   "outputs": [],
   "source": [
    "liberals = [node for node in G.nodes() if name2opinion[node]==\"0\"]\n",
    "conservatives = [node for node in G.nodes() if name2opinion[node]==\"1\"]\n",
    "#sort lists by degree, for later use\n",
    "liberals_sorted = sorted(liberals, key=G.degree, reverse=True)\n",
    "conservatives_sorted = sorted(conservatives, key=G.degree, reverse=True)\n",
    "L = G.subgraph(liberals)\n",
    "C = G.subgraph(conservatives)\n",
    "graphs = [G, L, C]"
   ]
  },
  {
   "cell_type": "markdown",
   "metadata": {},
   "source": [
    "The graph is too big (our clustering method takes >4h for just one realisation), so we take a (balanced) subsample of the net. This is ok for now, as this is just a proof of principle. Might want to cythonise the code in the future for speed, though."
   ]
  },
  {
   "cell_type": "code",
   "execution_count": 19,
   "metadata": {},
   "outputs": [
    {
     "name": "stdout",
     "output_type": "stream",
     "text": [
      "150\n"
     ]
    }
   ],
   "source": [
    "subsample_hsize = 75\n",
    "liberals_sorted = sorted(liberals, key=G.degree, reverse=True)\n",
    "conservatives_sorted = sorted(conservatives, key=G.degree, reverse=True)\n",
    "balanced_subsample = liberals_sorted[:subsample_hsize] + conservatives_sorted[:subsample_hsize]\n",
    "B = G.subgraph(balanced_subsample)\n",
    "balanced_connected = sorted(nx.connected_components(B), key = len, reverse=True)[0]\n",
    "B = G.subgraph(balanced_connected)\n",
    "print(B.number_of_nodes()) "
   ]
  },
  {
   "cell_type": "code",
   "execution_count": 28,
   "metadata": {},
   "outputs": [
    {
     "name": "stdout",
     "output_type": "stream",
     "text": [
      "2 4\n"
     ]
    }
   ],
   "source": [
    "libs_connected = sorted(nx.connected_components(L), key = len, reverse=True)[1]\n",
    "L_con = G.subgraph(libs_connected)\n",
    "cons_connected = sorted(nx.connected_components(C), key = len, reverse=True)[1]\n",
    "C_con = G.subgraph(cons_connected)\n",
    "print(L_con.number_of_nodes(), \n",
    "      C_con.number_of_nodes())"
   ]
  },
  {
   "cell_type": "markdown",
   "metadata": {},
   "source": [
    "Since we will draw the main graph (\"Blogosphere\") several times, I define a function for such purpose:"
   ]
  },
  {
   "cell_type": "code",
   "execution_count": 13,
   "metadata": {},
   "outputs": [],
   "source": [
    "def draw_blogosphere(G, ax, pos, node_size=20):\n",
    "    nx.draw_networkx_nodes(G\n",
    "                           ,node_size=node_size\n",
    "                           , pos=pos\n",
    "                           , nodelist=liberals,\n",
    "                           node_color='red', label='Liberals', ax=ax)\n",
    "    nx.draw_networkx_nodes(G\n",
    "                           ,node_size=node_size\n",
    "                           , pos=pos\n",
    "                           , nodelist=conservatives,\n",
    "                           node_color='blue', label='Conservatives', ax=ax)\n",
    "    nx.draw_networkx_edges(G, pos=pos, ax=ax)\n",
    "    #scatterpoints is the number of points of each colour in legend\n",
    "    ax.legend(scatterpoints = 1) \n",
    "    ax.set_title(\"Blogosphere\")"
   ]
  },
  {
   "cell_type": "markdown",
   "metadata": {},
   "source": [
    "And now we can easily plot the graph, along with the two communities:"
   ]
  },
  {
   "cell_type": "code",
   "execution_count": 14,
   "metadata": {},
   "outputs": [
    {
     "data": {
      "image/png": "[encoded data removed]",
      "text/plain": [
       "<Figure size 792x324 with 3 Axes>"
      ]
     },
     "metadata": {},
     "output_type": "display_data"
    },
    {
     "name": "stdout",
     "output_type": "stream",
     "text": [
      "CPU times: user 17.7 s, sys: 553 ms, total: 18.3 s\n",
      "Wall time: 17.8 s\n"
     ]
    }
   ],
   "source": [
    "%%time\n",
    "pos = nx.spring_layout(G)\n",
    "fig, axes = plt.subplots(nrows=1, ncols=3, figsize=(11,4.5))\n",
    "ax = axes.flatten()\n",
    "node_size=20\n",
    "draw_blogosphere(G, ax[0], pos)\n",
    "\n",
    "nx.draw_networkx_nodes(L, node_size=node_size, node_color='red', ax=ax[1], pos=pos)\n",
    "nx.draw_networkx_edges(L, pos=pos, ax=ax[1])\n",
    "ax[1].set_title(\"Liberals\")\n",
    "\n",
    "nx.draw_networkx_nodes(C, node_size=node_size, node_color='blue', ax=ax[2],pos=pos)\n",
    "nx.draw_networkx_edges(C, pos=pos, ax=ax[2])\n",
    "ax[2].set_title(\"Conservatives\")\n",
    "#remove plot frame\n",
    "ax[0].set_axis_off()\n",
    "ax[1].set_axis_off()\n",
    "ax[2].set_axis_off()\n",
    "\n",
    "plt.show()"
   ]
  },
  {
   "cell_type": "markdown",
   "metadata": {},
   "source": [
    "Just the spring layout already allows to pick out the communities! As these are the most interesting feature of the graph, in the following we will compute everything for each community's graph/core as well."
   ]
  },
  {
   "cell_type": "markdown",
   "metadata": {},
   "source": [
    "## Clustering\n",
    "\n",
    "As distance, I use shortest geodesic distance:"
   ]
  },
  {
   "cell_type": "markdown",
   "metadata": {},
   "source": [
    "First, we define the distance matrix between nodes (blogs). Note: add below definition to utils/."
   ]
  },
  {
   "cell_type": "code",
   "execution_count": 20,
   "metadata": {},
   "outputs": [
    {
     "name": "stdout",
     "output_type": "stream",
     "text": [
      "11175 11175.0\n",
      "(11175,) 1.0\n",
      "CPU times: user 1.13 s, sys: 100 µs, total: 1.13 s\n",
      "Wall time: 1.13 s\n"
     ]
    }
   ],
   "source": [
    "%%time\n",
    "\n",
    "def build_cond_dist_mat(G):\n",
    "    #build condensed distance matrix\n",
    "    d = []\n",
    "    blogs = list(G.nodes())\n",
    "    n_blogs = G.number_of_nodes()\n",
    "    for i, bi in enumerate(blogs):\n",
    "        for j in range(i+1, n_blogs):\n",
    "            bj = blogs[j]\n",
    "            d.append(nx.shortest_path_length(G, bi, bj))\n",
    "            #to check distances are actually symmetric\n",
    "            #print(nx.shortest_path_length(G, bi, bj)\n",
    "            #      , nx.shortest_path_length(G, bj, bi))\n",
    "    d /= max(np.array(d))\n",
    "    #the expected length is n(n-1)/2\n",
    "    print(len(d), n_blogs*(n_blogs-1)/2)\n",
    "    print(d.shape, max(d))\n",
    "    return d\n",
    "\n",
    "#d = build_cond_dist_mat(G)\n",
    "#d = build_cond_dist_mat(L_con)\n",
    "d = build_cond_dist_mat(B)"
   ]
  },
  {
   "cell_type": "markdown",
   "metadata": {},
   "source": [
    "We are now ready to apply hierarchical clustering. The scipy method gives:"
   ]
  },
  {
   "cell_type": "code",
   "execution_count": 21,
   "metadata": {},
   "outputs": [
    {
     "name": "stdout",
     "output_type": "stream",
     "text": [
      "(149, 4)\n"
     ]
    },
    {
     "data": {
      "image/png": "[encoded data removed]",
      "text/plain": [
       "<Figure size 1800x720 with 1 Axes>"
      ]
     },
     "metadata": {
      "needs_background": "light"
     },
     "output_type": "display_data"
    },
    {
     "name": "stdout",
     "output_type": "stream",
     "text": [
      "CPU times: user 6.5 s, sys: 763 ms, total: 7.26 s\n",
      "Wall time: 6.96 s\n"
     ]
    }
   ],
   "source": [
    "%%time\n",
    "\n",
    "from scipy.cluster.hierarchy import dendrogram, linkage\n",
    "\n",
    "z_sc = linkage(d, 'ward')\n",
    "print(z_sc.shape)\n",
    "fig = plt.figure(figsize=(25, 10))\n",
    "dn = dendrogram(z_sc)\n",
    "plt.show()"
   ]
  },
  {
   "cell_type": "markdown",
   "metadata": {},
   "source": [
    "Our method gives:"
   ]
  },
  {
   "cell_type": "code",
   "execution_count": 22,
   "metadata": {},
   "outputs": [],
   "source": [
    "#for importing from parent directory\n",
    "import os,sys,inspect\n",
    "currentdir = os.path.dirname(os.path.abspath(inspect.getfile(inspect.currentframe())))\n",
    "parentdir = os.path.dirname(currentdir)\n",
    "sys.path.insert(0,parentdir) "
   ]
  },
  {
   "cell_type": "code",
   "execution_count": 23,
   "metadata": {},
   "outputs": [
    {
     "name": "stdout",
     "output_type": "stream",
     "text": [
      "Iteration 147/148...\n",
      "Cluster 147 (size 34) and cluster 140 (size 54) have dist 1.75\n",
      "Cluster 149 (size 62) and cluster 140 (size 54) have dist 3.65\n",
      "Cluster 149 (size 62) and cluster 147 (size 34) have dist 1.79\n",
      "and total polarisation is 1\n",
      "Iteration 148/148...\n",
      "Cluster 149 (size 62) and cluster 147 (size 88) have dist 3.33\n",
      "and total polarisation is 2\n",
      "CPU times: user 32 s, sys: 88 ms, total: 32.1 s\n",
      "Wall time: 32.1 s\n"
     ]
    }
   ],
   "source": [
    "%%time\n",
    "#with 150 nodes\n",
    "from scipy.cluster.hierarchy import dendrogram\n",
    "from utils.clustering import agglomerative_clustering\n",
    "\n",
    "z_wrd, pol_wrd = agglomerative_clustering(d, method='ward')"
   ]
  },
  {
   "cell_type": "code",
   "execution_count": 27,
   "metadata": {},
   "outputs": [
    {
     "data": {
      "text/plain": [
       "array([], dtype=float64)"
      ]
     },
     "execution_count": 27,
     "metadata": {},
     "output_type": "execute_result"
    }
   ],
   "source": [
    "z_wrd[np.isclose(z_sc, z_wrd)==False]"
   ]
  },
  {
   "cell_type": "code",
   "execution_count": 22,
   "metadata": {},
   "outputs": [
    {
     "name": "stdout",
     "output_type": "stream",
     "text": [
      "CPU times: user 4h 3min 30s, sys: 25 s, total: 4h 3min 55s\n",
      "Wall time: 4h 4min 39s\n"
     ]
    }
   ],
   "source": [
    "#DO NOT RUN\n",
    "%%time\n",
    "#with whole G (1222 nodes)\n",
    "from scipy.cluster.hierarchy import dendrogram\n",
    "from utils.clustering import agglomerative_clustering\n",
    "\n",
    "z_wrd, pol_wrd = agglomerative_clustering(d, method='ward')"
   ]
  },
  {
   "cell_type": "markdown",
   "metadata": {},
   "source": [
    "## 3. Dendogram/tree topologic distances for different alpha"
   ]
  },
  {
   "cell_type": "markdown",
   "metadata": {},
   "source": [
    "Let's check the tree distance between our Ward, polarisation and centroid-obtained dendograms. I use the library *dendropy*."
   ]
  },
  {
   "cell_type": "code",
   "execution_count": 15,
   "metadata": {},
   "outputs": [],
   "source": [
    "#!pip install dendropy"
   ]
  },
  {
   "cell_type": "markdown",
   "metadata": {},
   "source": [
    "Function to produce dendogram/tree string in Newick format from a linkage matrix:"
   ]
  },
  {
   "cell_type": "code",
   "execution_count": 28,
   "metadata": {},
   "outputs": [
    {
     "name": "stdout",
     "output_type": "stream",
     "text": [
      "CPU times: user 57.8 ms, sys: 11.1 ms, total: 68.9 ms\n",
      "Wall time: 615 ms\n"
     ]
    }
   ],
   "source": [
    "%%time\n",
    "\n",
    "import dendropy\n",
    "\n",
    "def z_to_tree_str_newick(z, nodes):\n",
    "    tree_str = \"\"\n",
    "    clusters = nodes\n",
    "    idx2node = {i:ni for i, ni in enumerate(nodes)}\n",
    "    node2idx = {ni:i for i, ni in enumerate(nodes)}\n",
    "    n = z.shape[0] + 1\n",
    "    for i in range(n-1):\n",
    "        #print(z[i, :2])\n",
    "        new_clus = \"(\" + idx2node[int(z[i,0])] + \",\" + idx2node[int(z[i,1])] + \")\"\n",
    "        idx2node[int(i+n)] = new_clus\n",
    "        #print(int(i+z.shape[0]))\n",
    "    idx2node[int(i+n)] += \";\"\n",
    "    return idx2node[int(2*n-2)]\n",
    "\n",
    "blogs = list(B.nodes())\n",
    "tree_str1 = z_to_tree_str_newick(z_sc, blogs)\n",
    "#tree_str2 = z_to_tree_str_newick(z_pol)\n",
    "\n",
    "#print(f\"{tree_str1}\")"
   ]
  },
  {
   "cell_type": "code",
   "execution_count": 29,
   "metadata": {},
   "outputs": [
    {
     "data": {
      "text/plain": [
       "['redstate.org',\n",
       " 'truthlaidbear.com',\n",
       " 'dissectleft.blogspot.com',\n",
       " 'michaeltotten.com',\n",
       " 'nerepublican.blogspot.com']"
      ]
     },
     "execution_count": 29,
     "metadata": {},
     "output_type": "execute_result"
    }
   ],
   "source": [
    "blogs[:5]"
   ]
  },
  {
   "cell_type": "markdown",
   "metadata": {},
   "source": [
    "Function to compute unweighted Robinson-Foulds distance between two trees given their strings in Newick format:"
   ]
  },
  {
   "cell_type": "code",
   "execution_count": 30,
   "metadata": {},
   "outputs": [],
   "source": [
    "import dendropy\n",
    "from dendropy.calculate import treecompare\n",
    "\n",
    "def RF_dist(tree_str1, tree_str2):\n",
    "    # trees need to have the same TaxonNamespace for RF distance\n",
    "    tns = dendropy.TaxonNamespace()\n",
    "    tree1 = dendropy.Tree.get_from_string(tree_str1, \"newick\",\n",
    "            taxon_namespace=tns)\n",
    "    tree2 = dendropy.Tree.get_from_string(tree_str2, \"newick\",\n",
    "            taxon_namespace=tns)\n",
    "    #have to compute bipàrtitions (whatever it means) of both trees \n",
    "    #before calling symmetric_difference\n",
    "    tree1.encode_bipartitions()\n",
    "    tree2.encode_bipartitions()\n",
    "    #return unweighted RF distance\n",
    "    return treecompare.symmetric_difference(tree1, tree2)"
   ]
  },
  {
   "cell_type": "markdown",
   "metadata": {},
   "source": [
    "Produce and save plot of RF distances vs alpha:"
   ]
  },
  {
   "cell_type": "code",
   "execution_count": 35,
   "metadata": {},
   "outputs": [
    {
     "name": "stdout",
     "output_type": "stream",
     "text": [
      "Iteration 147/148...\n",
      "Cluster 147 (size 58) and cluster 146 (size 32) have dist 0.25\n",
      "Cluster 149 (size 60) and cluster 146 (size 32) have dist 0.3\n",
      "Cluster 149 (size 60) and cluster 147 (size 58) have dist 0.46\n",
      "and total polarisation is 0\n",
      "Iteration 148/148...\n",
      "Cluster 149 (size 60) and cluster 147 (size 90) have dist 0.39\n",
      "and total polarisation is 0\n",
      "Iteration 147/148...\n",
      "Cluster 147 (size 58) and cluster 146 (size 32) have dist 0.25\n",
      "Cluster 149 (size 60) and cluster 146 (size 32) have dist 0.3\n",
      "Cluster 149 (size 60) and cluster 147 (size 58) have dist 0.46\n",
      "and total polarisation is 0\n",
      "Iteration 148/148...\n",
      "Cluster 149 (size 60) and cluster 147 (size 90) have dist 0.39\n",
      "and total polarisation is 0\n",
      "Iteration 147/148...\n",
      "Cluster 137 (size 1) and cluster 125 (size 1) have dist 0.67\n",
      "Cluster 149 (size 148) and cluster 125 (size 1) have dist 0.5\n",
      "Cluster 149 (size 148) and cluster 137 (size 1) have dist 0.51\n",
      "and total polarisation is 0\n",
      "Iteration 148/148...\n",
      "Cluster 149 (size 149) and cluster 137 (size 1) have dist 0.51\n",
      "and total polarisation is 0\n",
      "Iteration 147/148...\n",
      "Cluster 147 (size 34) and cluster 140 (size 54) have dist 1.75\n",
      "Cluster 149 (size 62) and cluster 140 (size 54) have dist 3.65\n",
      "Cluster 149 (size 62) and cluster 147 (size 34) have dist 1.79\n",
      "and total polarisation is 1\n",
      "Iteration 148/148...\n",
      "Cluster 149 (size 62) and cluster 147 (size 88) have dist 3.33\n",
      "and total polarisation is 2\n",
      "Iteration 147/148...\n",
      "Cluster 147 (size 54) and cluster 142 (size 32) have dist 0.23\n",
      "Cluster 149 (size 64) and cluster 142 (size 32) have dist 0.34\n",
      "Cluster 149 (size 64) and cluster 147 (size 54) have dist 0.45\n",
      "and total polarisation is 0\n",
      "Iteration 148/148...\n",
      "Cluster 149 (size 64) and cluster 147 (size 86) have dist 0.39\n",
      "and total polarisation is 0\n",
      "Iteration 147/148...\n",
      "Cluster 137 (size 1) and cluster 125 (size 1) have dist 0.67\n",
      "Cluster 149 (size 148) and cluster 125 (size 1) have dist 0.5\n",
      "Cluster 149 (size 148) and cluster 137 (size 1) have dist 0.51\n",
      "and total polarisation is 0\n",
      "Iteration 148/148...\n",
      "Cluster 149 (size 149) and cluster 137 (size 1) have dist 0.51\n",
      "and total polarisation is 0\n",
      "Iteration 147/148...\n",
      "Cluster 147 (size 34) and cluster 140 (size 54) have dist 1.75\n",
      "Cluster 149 (size 62) and cluster 140 (size 54) have dist 3.65\n",
      "Cluster 149 (size 62) and cluster 147 (size 34) have dist 1.79\n",
      "and total polarisation is 1\n",
      "Iteration 148/148...\n",
      "Cluster 149 (size 62) and cluster 147 (size 88) have dist 3.33\n",
      "and total polarisation is 2\n",
      "Iteration 147/148...\n",
      "Cluster 147 (size 54) and cluster 142 (size 32) have dist 0.23\n",
      "Cluster 149 (size 64) and cluster 142 (size 32) have dist 0.34\n",
      "Cluster 149 (size 64) and cluster 147 (size 54) have dist 0.45\n",
      "and total polarisation is 0\n",
      "Iteration 148/148...\n",
      "Cluster 149 (size 64) and cluster 147 (size 86) have dist 0.39\n",
      "and total polarisation is 0\n",
      "Iteration 147/148...\n",
      "Cluster 137 (size 1) and cluster 125 (size 1) have dist 0.67\n",
      "Cluster 149 (size 148) and cluster 125 (size 1) have dist 0.5\n",
      "Cluster 149 (size 148) and cluster 137 (size 1) have dist 0.51\n",
      "and total polarisation is 0\n",
      "Iteration 148/148...\n",
      "Cluster 149 (size 149) and cluster 137 (size 1) have dist 0.51\n",
      "and total polarisation is 0\n",
      "Iteration 147/148...\n",
      "Cluster 147 (size 34) and cluster 140 (size 54) have dist 1.75\n",
      "Cluster 149 (size 62) and cluster 140 (size 54) have dist 3.65\n",
      "Cluster 149 (size 62) and cluster 147 (size 34) have dist 1.79\n",
      "and total polarisation is 1\n",
      "Iteration 148/148...\n",
      "Cluster 149 (size 62) and cluster 147 (size 88) have dist 3.33\n",
      "and total polarisation is 2\n",
      "Iteration 147/148...\n",
      "Cluster 147 (size 54) and cluster 142 (size 32) have dist 0.23\n",
      "Cluster 149 (size 64) and cluster 142 (size 32) have dist 0.34\n",
      "Cluster 149 (size 64) and cluster 147 (size 54) have dist 0.45\n",
      "and total polarisation is 1\n",
      "Iteration 148/148...\n",
      "Cluster 149 (size 96) and cluster 147 (size 54) have dist 0.35\n",
      "and total polarisation is 0\n",
      "Iteration 0/148...\r"
     ]
    },
    {
     "name": "stderr",
     "output_type": "stream",
     "text": [
      "/home/bambusito/Desktop/backup/Dropbox/masterBCN/TFM/polarisation/utils/clustering.py:120: RuntimeWarning: overflow encountered in long_scalars\n",
      "  p += ni**(1+alpha)*nj*D_ctr[condensed_index(n, i, j)]\n"
     ]
    },
    {
     "name": "stdout",
     "output_type": "stream",
     "text": [
      "Iteration 147/148...\n",
      "Cluster 137 (size 1) and cluster 125 (size 1) have dist 0.67\n",
      "Cluster 149 (size 148) and cluster 125 (size 1) have dist 0.5\n",
      "Cluster 149 (size 148) and cluster 137 (size 1) have dist 0.51\n",
      "and total polarisation is 0\n",
      "Iteration 148/148...\n",
      "Cluster 149 (size 149) and cluster 137 (size 1) have dist 0.51\n",
      "and total polarisation is 0\n",
      "Iteration 147/148...\n",
      "Cluster 147 (size 34) and cluster 140 (size 54) have dist 1.75\n",
      "Cluster 149 (size 62) and cluster 140 (size 54) have dist 3.65\n",
      "Cluster 149 (size 62) and cluster 147 (size 34) have dist 1.79\n",
      "and total polarisation is 1\n",
      "Iteration 148/148...\n",
      "Cluster 149 (size 62) and cluster 147 (size 88) have dist 3.33\n",
      "and total polarisation is 2\n",
      "Iteration 147/148...\n",
      "Cluster 148 (size 16) and cluster 147 (size 118) have dist 0.31\n",
      "Cluster 149 (size 16) and cluster 147 (size 118) have dist 0.29\n",
      "Cluster 149 (size 16) and cluster 148 (size 16) have dist 0.23\n",
      "and total polarisation is 1\n",
      "Iteration 148/148...\n",
      "Cluster 149 (size 16) and cluster 148 (size 134) have dist 0.27\n",
      "and total polarisation is 0\n",
      "Iteration 147/148...\n",
      "Cluster 137 (size 1) and cluster 125 (size 1) have dist 0.67\n",
      "Cluster 149 (size 148) and cluster 125 (size 1) have dist 0.5\n",
      "Cluster 149 (size 148) and cluster 137 (size 1) have dist 0.51\n",
      "and total polarisation is 0\n",
      "Iteration 148/148...\n",
      "Cluster 149 (size 149) and cluster 137 (size 1) have dist 0.51\n",
      "and total polarisation is 0\n",
      "Iteration 147/148...\n",
      "Cluster 147 (size 34) and cluster 140 (size 54) have dist 1.75\n",
      "Cluster 149 (size 62) and cluster 140 (size 54) have dist 3.65\n",
      "Cluster 149 (size 62) and cluster 147 (size 34) have dist 1.79\n",
      "and total polarisation is 1\n",
      "Iteration 148/148...\n",
      "Cluster 149 (size 62) and cluster 147 (size 88) have dist 3.33\n",
      "and total polarisation is 2\n",
      "Iteration 147/148...\n",
      "Cluster 148 (size 134) and cluster 146 (size 8) have dist 0.29\n",
      "Cluster 149 (size 8) and cluster 146 (size 8) have dist 0.35\n",
      "Cluster 149 (size 8) and cluster 148 (size 134) have dist 0.3\n",
      "and total polarisation is 0\n",
      "Iteration 148/148...\n",
      "Cluster 149 (size 16) and cluster 148 (size 134) have dist 0.24\n",
      "and total polarisation is 0\n",
      "Iteration 147/148...\n",
      "Cluster 137 (size 1) and cluster 125 (size 1) have dist 0.67\n",
      "Cluster 149 (size 148) and cluster 125 (size 1) have dist 0.5\n",
      "Cluster 149 (size 148) and cluster 137 (size 1) have dist 0.51\n",
      "and total polarisation is 0\n",
      "Iteration 148/148...\n",
      "Cluster 149 (size 149) and cluster 137 (size 1) have dist 0.51\n",
      "and total polarisation is 0\n",
      "Iteration 147/148...\n",
      "Cluster 147 (size 34) and cluster 140 (size 54) have dist 1.75\n",
      "Cluster 149 (size 62) and cluster 140 (size 54) have dist 3.65\n",
      "Cluster 149 (size 62) and cluster 147 (size 34) have dist 1.79\n",
      "and total polarisation is 1\n",
      "Iteration 148/148...\n",
      "Cluster 149 (size 62) and cluster 147 (size 88) have dist 3.33\n",
      "and total polarisation is 2\n",
      "Iteration 147/148...\n",
      "Cluster 146 (size 8) and cluster 144 (size 8) have dist 0.33\n",
      "Cluster 149 (size 134) and cluster 144 (size 8) have dist 0.3\n",
      "Cluster 149 (size 134) and cluster 146 (size 8) have dist 0.29\n",
      "and total polarisation is -1\n",
      "Iteration 148/148...\n",
      "Cluster 149 (size 142) and cluster 144 (size 8) have dist 0.3\n",
      "and total polarisation is 0\n",
      "Iteration 0/148...\r"
     ]
    },
    {
     "name": "stderr",
     "output_type": "stream",
     "text": [
      "/home/bambusito/Desktop/backup/Dropbox/masterBCN/TFM/polarisation/utils/clustering.py:284: RuntimeWarning: overflow encountered in long_scalars\n",
      "  d_pol_xy_i = d_xy_i*(size_i*(size_x+size_y)**(1+alpha)+\n"
     ]
    },
    {
     "name": "stdout",
     "output_type": "stream",
     "text": [
      "Iteration 147/148...\n",
      "Cluster 137 (size 1) and cluster 125 (size 1) have dist 0.67\n",
      "Cluster 149 (size 148) and cluster 125 (size 1) have dist 0.5\n",
      "Cluster 149 (size 148) and cluster 137 (size 1) have dist 0.51\n",
      "and total polarisation is 0\n",
      "Iteration 148/148...\n",
      "Cluster 149 (size 149) and cluster 137 (size 1) have dist 0.51\n",
      "and total polarisation is 0\n",
      "Iteration 147/148...\n",
      "Cluster 147 (size 34) and cluster 140 (size 54) have dist 1.75\n",
      "Cluster 149 (size 62) and cluster 140 (size 54) have dist 3.65\n",
      "Cluster 149 (size 62) and cluster 147 (size 34) have dist 1.79\n",
      "and total polarisation is 1\n",
      "Iteration 148/148...\n",
      "Cluster 149 (size 62) and cluster 147 (size 88) have dist 3.33\n",
      "and total polarisation is 2\n",
      "Iteration 147/148...\n",
      "Cluster 148 (size 8) and cluster 147 (size 130) have dist 0.25\n",
      "Cluster 149 (size 12) and cluster 147 (size 130) have dist 0.3\n",
      "Cluster 149 (size 12) and cluster 148 (size 8) have dist 0.31\n",
      "and total polarisation is -2\n",
      "Iteration 148/148...\n",
      "Cluster 149 (size 142) and cluster 148 (size 8) have dist 0.24\n",
      "and total polarisation is 0\n",
      "Iteration 147/148...\n",
      "Cluster 137 (size 1) and cluster 125 (size 1) have dist 0.67\n",
      "Cluster 149 (size 148) and cluster 125 (size 1) have dist 0.5\n",
      "Cluster 149 (size 148) and cluster 137 (size 1) have dist 0.51\n",
      "and total polarisation is 0\n",
      "Iteration 148/148...\n",
      "Cluster 149 (size 149) and cluster 137 (size 1) have dist 0.51\n",
      "and total polarisation is 0\n",
      "Iteration 147/148...\n",
      "Cluster 147 (size 34) and cluster 140 (size 54) have dist 1.75\n",
      "Cluster 149 (size 62) and cluster 140 (size 54) have dist 3.65\n",
      "Cluster 149 (size 62) and cluster 147 (size 34) have dist 1.79\n",
      "and total polarisation is 1\n",
      "Iteration 148/148...\n",
      "Cluster 149 (size 62) and cluster 147 (size 88) have dist 3.33\n",
      "and total polarisation is 2\n",
      "Iteration 147/148...\n",
      "Cluster 148 (size 4) and cluster 146 (size 122) have dist 0.41\n",
      "Cluster 149 (size 24) and cluster 146 (size 122) have dist 0.16\n",
      "Cluster 149 (size 24) and cluster 148 (size 4) have dist 0.4\n",
      "and total polarisation is 0\n",
      "Iteration 148/148...\n",
      "Cluster 149 (size 28) and cluster 146 (size 122) have dist 0.16\n",
      "and total polarisation is 1\n",
      "Iteration 147/148...\n",
      "Cluster 137 (size 1) and cluster 125 (size 1) have dist 0.67\n",
      "Cluster 149 (size 148) and cluster 125 (size 1) have dist 0.5\n",
      "Cluster 149 (size 148) and cluster 137 (size 1) have dist 0.51\n",
      "and total polarisation is 0\n",
      "Iteration 148/148...\n",
      "Cluster 149 (size 149) and cluster 137 (size 1) have dist 0.51\n",
      "and total polarisation is 0\n",
      "Iteration 147/148...\n",
      "Cluster 147 (size 34) and cluster 140 (size 54) have dist 1.75\n",
      "Cluster 149 (size 62) and cluster 140 (size 54) have dist 3.65\n",
      "Cluster 149 (size 62) and cluster 147 (size 34) have dist 1.79\n",
      "and total polarisation is 1\n",
      "Iteration 148/148...\n",
      "Cluster 149 (size 62) and cluster 147 (size 88) have dist 3.33\n",
      "and total polarisation is 2\n",
      "Iteration 147/148...\n",
      "Cluster 148 (size 142) and cluster 117 (size 4) have dist 0.32\n",
      "Cluster 149 (size 4) and cluster 117 (size 4) have dist 0.44\n",
      "Cluster 149 (size 4) and cluster 148 (size 142) have dist 0.35\n",
      "and total polarisation is -3\n",
      "Iteration 148/148...\n",
      "Cluster 149 (size 8) and cluster 148 (size 142) have dist 0.25\n",
      "and total polarisation is 0\n",
      "Iteration 147/148...\n",
      "Cluster 137 (size 1) and cluster 125 (size 1) have dist 0.67\n",
      "Cluster 149 (size 148) and cluster 125 (size 1) have dist 0.5\n",
      "Cluster 149 (size 148) and cluster 137 (size 1) have dist 0.51\n",
      "and total polarisation is 0\n",
      "Iteration 148/148...\n",
      "Cluster 149 (size 149) and cluster 137 (size 1) have dist 0.51\n",
      "and total polarisation is 0\n",
      "Iteration 147/148...\n",
      "Cluster 147 (size 34) and cluster 140 (size 54) have dist 1.75\n",
      "Cluster 149 (size 62) and cluster 140 (size 54) have dist 3.65\n",
      "Cluster 149 (size 62) and cluster 147 (size 34) have dist 1.79\n",
      "and total polarisation is 1\n",
      "Iteration 148/148...\n",
      "Cluster 149 (size 62) and cluster 147 (size 88) have dist 3.33\n",
      "and total polarisation is 2\n",
      "CPU times: user 15min 9s, sys: 2.6 s, total: 15min 11s\n",
      "Wall time: 15min 10s\n"
     ]
    }
   ],
   "source": [
    "%%time\n",
    "\n",
    "from scipy.cluster.hierarchy import dendrogram\n",
    "from utils.clustering import agglomerative_clustering\n",
    "\n",
    "dist_p2c = []\n",
    "dist_p2w = []\n",
    "dist_p2p0 = []\n",
    "#alphas = np.arange(0,50,1)\n",
    "alphas = np.arange(0,30,3)\n",
    "\n",
    "z_pol0, _ = agglomerative_clustering(d, method='polarisation'\n",
    "                                          , alpha=0, K=None)\n",
    "tp0_str = z_to_tree_str_newick(z_pol0, blogs)\n",
    "\n",
    "for alpha in alphas:\n",
    "    z_pol, _ = agglomerative_clustering(d, method='polarisation'\n",
    "                                          , alpha=alpha, K=None)\n",
    "    z_ctr, _ = agglomerative_clustering(d, method='centroid'\n",
    "                                        ,alpha=1, K=None)#this alpha is for computing pol, not pol dist\n",
    "    z_wrd, _ = agglomerative_clustering(d, method='ward')\n",
    "    \n",
    "    tp_str = z_to_tree_str_newick(z_pol, blogs)\n",
    "    tc_str = z_to_tree_str_newick(z_ctr, blogs)\n",
    "    tw_str = z_to_tree_str_newick(z_wrd, blogs)\n",
    "    \n",
    "    dist_p2c.append(RF_dist(tp_str, tc_str))\n",
    "    dist_p2w.append(RF_dist(tp_str, tw_str))\n",
    "    dist_p2p0.append(RF_dist(tp0_str, tp_str))"
   ]
  },
  {
   "cell_type": "code",
   "execution_count": 37,
   "metadata": {},
   "outputs": [
    {
     "data": {
      "text/plain": [
       "([0, 42, 42, 54, 70, 94, 94, 142, 146, 154],\n",
       " [286, 286, 286, 286, 288, 288, 288, 288, 288, 290],\n",
       " [278, 278, 278, 278, 278, 278, 278, 278, 278, 278])"
      ]
     },
     "execution_count": 37,
     "metadata": {},
     "output_type": "execute_result"
    }
   ],
   "source": [
    "dist_p2p0, dist_p2c, dist_p2w"
   ]
  },
  {
   "cell_type": "markdown",
   "metadata": {},
   "source": [
    "As suggested in *SouthernWomen.ipynb*, with a network size roughly 10x greater a change in alpha becomes relevant for the topology of the resulting tree sooner (in alpha), although mind that this is also a different network and some or all of the difference could still come from that. \n",
    "\n",
    "Note however that, despite the greater change in topology, RF distance to the Ward and centroid trees are pretty much constant."
   ]
  },
  {
   "cell_type": "code",
   "execution_count": 38,
   "metadata": {},
   "outputs": [
    {
     "data": {
      "image/png": "[encoded data removed]",
      "text/plain": [
       "<Figure size 432x288 with 1 Axes>"
      ]
     },
     "metadata": {
      "needs_background": "light"
     },
     "output_type": "display_data"
    }
   ],
   "source": [
    "from matplotlib import pyplot as plt\n",
    "\"\"\"plt.rcParams.update({\n",
    "    \"text.usetex\": False,\n",
    "    \"font.family\": \"sans-serif\",\n",
    "    \"font.sans-serif\": [\"Helvetica\"]})\"\"\"\n",
    "\n",
    "plt.plot(alphas, dist_p2c, \"-\", label=\"p2c\")\n",
    "plt.plot(alphas, dist_p2w, \"--\", label=\"p2w\")\n",
    "plt.plot(alphas, dist_p2p0, \".-\", label=\"p2p0\")\n",
    "\n",
    "plt.title(\"RF dist vs alpha (Polblogs network)\")\n",
    "plt.xlabel(\"alpha\")\n",
    "plt.ylabel(\"D_{RF}\")\n",
    "plt.legend()\n",
    "plt.savefig(\"../plots/polblogs_rfdist_vs_alpha.png\")\n",
    "plt.show()"
   ]
  },
  {
   "cell_type": "code",
   "execution_count": null,
   "metadata": {},
   "outputs": [],
   "source": []
  }
 ],
 "metadata": {
  "kernelspec": {
   "display_name": "Python 3",
   "language": "python",
   "name": "python3"
  },
  "language_info": {
   "codemirror_mode": {
    "name": "ipython",
    "version": 3
   },
   "file_extension": ".py",
   "mimetype": "text/x-python",
   "name": "python",
   "nbconvert_exporter": "python",
   "pygments_lexer": "ipython3",
   "version": "3.8.3"
  }
 },
 "nbformat": 4,
 "nbformat_minor": 1
}
